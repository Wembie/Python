{
  "cells": [
    {
      "cell_type": "markdown",
      "metadata": {
        "id": "elQWZqn5EdvD"
      },
      "source": [
        "#Regresión logistica\n",
        "\n",
        "Juan Esteban Acosta López, Carlos Felipe Palacio Lozano\n",
        "\n",
        "Aprendizaje automático y análisis de datos"
      ]
    },
    {
      "cell_type": "code",
      "execution_count": null,
      "metadata": {
        "colab": {
          "base_uri": "https://localhost:8080/",
          "height": 279
        },
        "id": "AWlnhhsYEdvK",
        "outputId": "6e126fc4-1c1b-4756-86de-ccdf8b570a72"
      },
      "outputs": [
        {
          "output_type": "display_data",
          "data": {
            "text/plain": [
              "<Figure size 432x288 with 1 Axes>"
            ],
            "image/png": "[encoded data removed]"
          },
          "metadata": {
            "needs_background": "light"
          }
        }
      ],
      "source": [
        "import matplotlib.pyplot as plt \n",
        "import numpy as np \n",
        "from scipy import optimize\n",
        "import numpy as np\n",
        "import pandas as pd\n",
        "import sklearn as sk\n",
        "import seaborn as sns\n",
        "import matplotlib.pyplot as plt\n",
        "from sklearn.preprocessing import LabelEncoder\n",
        "from sklearn.preprocessing import MinMaxScaler\n",
        "from sklearn import datasets\n",
        "from sklearn.model_selection import train_test_split\n",
        "from sklearn.tree import DecisionTreeClassifier\n",
        "from sklearn.metrics import classification_report\n",
        "import time\n",
        "from sklearn.model_selection import GridSearchCV\n",
        "from sklearn.model_selection import RandomizedSearchCV\n",
        "from sklearn.tree import DecisionTreeClassifier\n",
        "from sklearn.preprocessing import MinMaxScaler\n",
        "from sklearn.linear_model import LogisticRegression\n",
        "from sklearn.model_selection import KFold\n",
        "from sklearn.linear_model import LogisticRegression\n",
        "from sklearn.model_selection import cross_val_score\n",
        "from sklearn.metrics import f1_score\n",
        "\n",
        "url=\"https://archive.ics.uci.edu/ml/machine-learning-databases/adult/adult.data\"\n",
        "data = pd.read_csv(url, header=None, na_values=\" ?\")\n",
        "\n",
        "#Ponemos nombre a las columnas (Esta información se toma del archivo original adult.names que está en el \n",
        "#repositorio junto con el archivo de datos)\n",
        "data.columns = ['Age', 'Workclass', 'Fnlwgt', 'Education', 'Education-num', 'Marital-status', 'Occupation',\n",
        "              'Relationship', 'Race', 'Sex', 'Capital-gain', 'Capital-loss', 'Hpw', 'Country', 'C']\n",
        "data\n",
        "\n",
        "encoder = LabelEncoder()\n",
        "\n",
        "data.loc[ :, 'C' ] = encoder.fit_transform( data[ 'C' ] )\n",
        "\n",
        "# funcion ideal\n",
        "def flin( x, a, b ):\n",
        "    return 1 / ( 1 + np.exp( -( a * x + b ) ) )\n",
        "\n",
        "hwp = data[ 'Hpw' ]\n",
        "etiqueta = data[ 'C' ]\n",
        "\n",
        "plt.plot( hwp, etiqueta,'rx' )\n",
        "plt.xlabel( r'Hours peer week')\n",
        "plt.ylabel( r'C / Etiqueta')\n",
        "plt.show()"
      ]
    },
    {
      "cell_type": "markdown",
      "metadata": {
        "id": "FsCWjM7QEdvL"
      },
      "source": [
        "\n",
        "Vamos a pintar una función logistica sobre estos datos\n",
        "\n",
        "$$ f_{a,b}\\left(\\vec{x}^{(i)}\\right)=\\frac{1}{1+\\exp-\\left(a\\vec{x}+b\\right)}$$\n",
        "Vamos a variar $a,b$ a ver que pasa en los datos\n"
      ]
    },
    {
      "cell_type": "code",
      "execution_count": null,
      "metadata": {
        "colab": {
          "base_uri": "https://localhost:8080/",
          "height": 279
        },
        "id": "JVDCDh9sEdvM",
        "outputId": "149e50a2-6bf7-48d5-c832-ea30b4e99f82"
      },
      "outputs": [
        {
          "output_type": "display_data",
          "data": {
            "text/plain": [
              "<Figure size 432x288 with 1 Axes>"
            ],
            "image/png": "[encoded data removed]"
          },
          "metadata": {
            "needs_background": "light"
          }
        }
      ],
      "source": [
        "a = 0.09\n",
        "b = -3.6\n",
        "\n",
        "x = np.linspace( 0, data[ 'Hpw' ].max(), 100 )\n",
        "y = 1 / ( 1 + np.exp( -( a * x + b ) ) )\n",
        "data.plot.scatter( x = \"Hpw\", y = \"C\" )\n",
        "plt.plot( x, y, '-r')\n",
        "plt.grid()\n",
        "plt.show()"
      ]
    },
    {
      "cell_type": "markdown",
      "metadata": {
        "id": "6lg-cbLEEdvM"
      },
      "source": [
        "Si escogemos esos parametros $a,b$ para el modelo, ¿Qué tan buenos son?\n",
        "\n",
        "Podemos utilizar la siguiente estrategia:\n",
        "* calcular el valor de la función logística para cada dato\n",
        "* calcular la función de pérdida (se denota con L o loss)\n",
        "* calcular el promedio de la pérdida para obtener el costo (se denota con Jo cost)\n",
        "\n",
        "Queremos los valores $a,b$ que resulten en un menor costo\n",
        "\n",
        "Las ecuaciones para las funciones son\n",
        "\n",
        "$$ L\\left(f_{a,b}\\left(\\vec{x}^{(i)}\\right),y^{(i)}\\right)=-y^{(i)}\\log\\left(f_{a,b}\\left(\\vec{x}^{(i)}\\right)\\right)-\\left(1-y^{(i)}\\right)\\log\\left(1-f_{a,b}\\left(\\vec{x}^{(i)}\\right)\\right) $$\n",
        "\n",
        "$$ J\\left(a,b\\right)=\\frac{1}{m}\\sum_{i=1}^{m}\\left[L\\left(f_{a,b}\\left(\\vec{x}^{(i)}\\right),y^{(i)}\\right)\\right] $$\n"
      ]
    },
    {
      "cell_type": "markdown",
      "metadata": {
        "id": "owJVcvnIEdvM"
      },
      "source": []
    },
    {
      "cell_type": "code",
      "execution_count": null,
      "metadata": {
        "colab": {
          "base_uri": "https://localhost:8080/"
        },
        "id": "gthNNv-MEdvN",
        "outputId": "207c7793-3d86-49be-b342-985207841163"
      },
      "outputs": [
        {
          "output_type": "execute_result",
          "data": {
            "text/plain": [
              "0.7211030339560902"
            ]
          },
          "metadata": {},
          "execution_count": 142
        }
      ],
      "source": [
        "#CALCULO DE LAS PREDICCIONES\n",
        "data[ 'id' ] = 1 / ( 1 + np.exp( -( data[ 'Hpw' ] * a + b ) ) )\n",
        "\n",
        "#CALCULO DE LA FUNCION DE ERROR\n",
        "\n",
        "data[ 'loss_xi' ] = -data[ 'C' ] * np.log( data[ 'id' ] ) - ( 1 - data[ 'C' ] ) * np.log( 1 - data[ 'id' ] )\n",
        "cost = data[ 'loss_xi' ].mean()\n",
        "cost"
      ]
    },
    {
      "cell_type": "markdown",
      "source": [
        "Esto lo hemos hecho con los parametros que hemos obtenido a ojo por ciento. Ahora vamos a ser más refinados y calcularlo para muchos parametros a la vez y luego de ahi mirar el que tenga menor costo.\n",
        "\n",
        "Para eso hacemos lo siguiente:\n",
        "* Construimos un dataframe con valores para $a,b$ que varían sobre una cuadricula o grid\n",
        "* Creamos una función de python que calcule el costo dados parametros $a,b$\n",
        "* Aplicamos la función sobre el dataframe con los valores $a,b$ en la cuadricula\n",
        "* Podemos ordenar la tabla resultante para obtener los valores $a,b$ con el menor costo\n",
        "* Luego hacemos gráficas para verificar el resultado"
      ],
      "metadata": {
        "id": "Zcr8HM7_bDQz"
      }
    },
    {
      "cell_type": "code",
      "execution_count": null,
      "metadata": {
        "colab": {
          "base_uri": "https://localhost:8080/",
          "height": 424
        },
        "id": "IDS-mH7_EdvN",
        "outputId": "f1d49ad2-5e24-44f8-d3f5-cb35b21e1ac5"
      },
      "outputs": [
        {
          "output_type": "execute_result",
          "data": {
            "text/plain": [
              "         a     b\n",
              "0     0.05 -4.00\n",
              "1     0.05 -3.99\n",
              "2     0.05 -3.98\n",
              "3     0.05 -3.97\n",
              "4     0.05 -3.96\n",
              "...    ...   ...\n",
              "1995  0.14 -2.05\n",
              "1996  0.14 -2.04\n",
              "1997  0.14 -2.03\n",
              "1998  0.14 -2.02\n",
              "1999  0.14 -2.01\n",
              "\n",
              "[2000 rows x 2 columns]"
            ],
            "text/html": [
              "\n",
              "  <div id=\"df-adb484eb-1a9c-4946-9baa-cb0e9fa690c5\">\n",
              "    <div class=\"colab-df-container\">\n",
              "      <div>\n",
              "<style scoped>\n",
              "    .dataframe tbody tr th:only-of-type {\n",
              "        vertical-align: middle;\n",
              "    }\n",
              "\n",
              "    .dataframe tbody tr th {\n",
              "        vertical-align: top;\n",
              "    }\n",
              "\n",
              "    .dataframe thead th {\n",
              "        text-align: right;\n",
              "    }\n",
              "</style>\n",
              "<table border=\"1\" class=\"dataframe\">\n",
              "  <thead>\n",
              "    <tr style=\"text-align: right;\">\n",
              "      <th></th>\n",
              "      <th>a</th>\n",
              "      <th>b</th>\n",
              "    </tr>\n",
              "  </thead>\n",
              "  <tbody>\n",
              "    <tr>\n",
              "      <th>0</th>\n",
              "      <td>0.05</td>\n",
              "      <td>-4.00</td>\n",
              "    </tr>\n",
              "    <tr>\n",
              "      <th>1</th>\n",
              "      <td>0.05</td>\n",
              "      <td>-3.99</td>\n",
              "    </tr>\n",
              "    <tr>\n",
              "      <th>2</th>\n",
              "      <td>0.05</td>\n",
              "      <td>-3.98</td>\n",
              "    </tr>\n",
              "    <tr>\n",
              "      <th>3</th>\n",
              "      <td>0.05</td>\n",
              "      <td>-3.97</td>\n",
              "    </tr>\n",
              "    <tr>\n",
              "      <th>4</th>\n",
              "      <td>0.05</td>\n",
              "      <td>-3.96</td>\n",
              "    </tr>\n",
              "    <tr>\n",
              "      <th>...</th>\n",
              "      <td>...</td>\n",
              "      <td>...</td>\n",
              "    </tr>\n",
              "    <tr>\n",
              "      <th>1995</th>\n",
              "      <td>0.14</td>\n",
              "      <td>-2.05</td>\n",
              "    </tr>\n",
              "    <tr>\n",
              "      <th>1996</th>\n",
              "      <td>0.14</td>\n",
              "      <td>-2.04</td>\n",
              "    </tr>\n",
              "    <tr>\n",
              "      <th>1997</th>\n",
              "      <td>0.14</td>\n",
              "      <td>-2.03</td>\n",
              "    </tr>\n",
              "    <tr>\n",
              "      <th>1998</th>\n",
              "      <td>0.14</td>\n",
              "      <td>-2.02</td>\n",
              "    </tr>\n",
              "    <tr>\n",
              "      <th>1999</th>\n",
              "      <td>0.14</td>\n",
              "      <td>-2.01</td>\n",
              "    </tr>\n",
              "  </tbody>\n",
              "</table>\n",
              "<p>2000 rows × 2 columns</p>\n",
              "</div>\n",
              "      <button class=\"colab-df-convert\" onclick=\"convertToInteractive('df-adb484eb-1a9c-4946-9baa-cb0e9fa690c5')\"\n",
              "              title=\"Convert this dataframe to an interactive table.\"\n",
              "              style=\"display:none;\">\n",
              "        \n",
              "  <svg xmlns=\"http://www.w3.org/2000/svg\" height=\"24px\"viewBox=\"0 0 24 24\"\n",
              "       width=\"24px\">\n",
              "    <path d=\"M0 0h24v24H0V0z\" fill=\"none\"/>\n",
              "    <path d=\"M18.56 5.44l.94 2.06.94-2.06 2.06-.94-2.06-.94-.94-2.06-.94 2.06-2.06.94zm-11 1L8.5 8.5l.94-2.06 2.06-.94-2.06-.94L8.5 2.5l-.94 2.06-2.06.94zm10 10l.94 2.06.94-2.06 2.06-.94-2.06-.94-.94-2.06-.94 2.06-2.06.94z\"/><path d=\"M17.41 7.96l-1.37-1.37c-.4-.4-.92-.59-1.43-.59-.52 0-1.04.2-1.43.59L10.3 9.45l-7.72 7.72c-.78.78-.78 2.05 0 2.83L4 21.41c.39.39.9.59 1.41.59.51 0 1.02-.2 1.41-.59l7.78-7.78 2.81-2.81c.8-.78.8-2.07 0-2.86zM5.41 20L4 18.59l7.72-7.72 1.47 1.35L5.41 20z\"/>\n",
              "  </svg>\n",
              "      </button>\n",
              "      \n",
              "  <style>\n",
              "    .colab-df-container {\n",
              "      display:flex;\n",
              "      flex-wrap:wrap;\n",
              "      gap: 12px;\n",
              "    }\n",
              "\n",
              "    .colab-df-convert {\n",
              "      background-color: #E8F0FE;\n",
              "      border: none;\n",
              "      border-radius: 50%;\n",
              "      cursor: pointer;\n",
              "      display: none;\n",
              "      fill: #1967D2;\n",
              "      height: 32px;\n",
              "      padding: 0 0 0 0;\n",
              "      width: 32px;\n",
              "    }\n",
              "\n",
              "    .colab-df-convert:hover {\n",
              "      background-color: #E2EBFA;\n",
              "      box-shadow: 0px 1px 2px rgba(60, 64, 67, 0.3), 0px 1px 3px 1px rgba(60, 64, 67, 0.15);\n",
              "      fill: #174EA6;\n",
              "    }\n",
              "\n",
              "    [theme=dark] .colab-df-convert {\n",
              "      background-color: #3B4455;\n",
              "      fill: #D2E3FC;\n",
              "    }\n",
              "\n",
              "    [theme=dark] .colab-df-convert:hover {\n",
              "      background-color: #434B5C;\n",
              "      box-shadow: 0px 1px 3px 1px rgba(0, 0, 0, 0.15);\n",
              "      filter: drop-shadow(0px 1px 2px rgba(0, 0, 0, 0.3));\n",
              "      fill: #FFFFFF;\n",
              "    }\n",
              "  </style>\n",
              "\n",
              "      <script>\n",
              "        const buttonEl =\n",
              "          document.querySelector('#df-adb484eb-1a9c-4946-9baa-cb0e9fa690c5 button.colab-df-convert');\n",
              "        buttonEl.style.display =\n",
              "          google.colab.kernel.accessAllowed ? 'block' : 'none';\n",
              "\n",
              "        async function convertToInteractive(key) {\n",
              "          const element = document.querySelector('#df-adb484eb-1a9c-4946-9baa-cb0e9fa690c5');\n",
              "          const dataTable =\n",
              "            await google.colab.kernel.invokeFunction('convertToInteractive',\n",
              "                                                     [key], {});\n",
              "          if (!dataTable) return;\n",
              "\n",
              "          const docLinkHtml = 'Like what you see? Visit the ' +\n",
              "            '<a target=\"_blank\" href=https://colab.research.google.com/notebooks/data_table.ipynb>data table notebook</a>'\n",
              "            + ' to learn more about interactive tables.';\n",
              "          element.innerHTML = '';\n",
              "          dataTable['output_type'] = 'display_data';\n",
              "          await google.colab.output.renderOutput(dataTable, element);\n",
              "          const docLink = document.createElement('div');\n",
              "          docLink.innerHTML = docLinkHtml;\n",
              "          element.appendChild(docLink);\n",
              "        }\n",
              "      </script>\n",
              "    </div>\n",
              "  </div>\n",
              "  "
            ]
          },
          "metadata": {},
          "execution_count": 143
        }
      ],
      "source": [
        "# hacemos dataframe para calcular el error en funcion de los parametros a, b\n",
        "\n",
        "arreglo = np.mgrid[ 0.05:0.15:0.01, -4:-2:0.01 ].reshape( 2,-1 ).T\n",
        "dataFrame = pd.DataFrame( data = arreglo, \n",
        "                  columns = [ 'a','b'] )\n",
        "\n",
        "# round para solventar problema con muchos decimales\n",
        "dataFrame[ 'a' ] = np.round( dataFrame['a'], 6 )\n",
        "dataFrame[ 'b' ] = np.round( dataFrame['b'], 6 )\n",
        "dataFrame"
      ]
    },
    {
      "cell_type": "code",
      "execution_count": null,
      "metadata": {
        "id": "OiHvVQg-EdvO"
      },
      "outputs": [],
      "source": [
        "def sumaErrorDataFrame( dataFrame ):\n",
        "  data[ 'id' ] = 1 / ( 1 + np.exp( -( data[ 'Hpw' ] * dataFrame[ 'a' ] + dataFrame[ 'b' ] ) ) )\n",
        "  data[ 'loss_xi' ] = -data[ 'C' ] * np.log( data[ 'id' ] ) - ( 1 - data[ 'C' ] ) * np.log( 1 - data[ 'id' ] )\n",
        "  return data[ 'loss_xi' ].mean()"
      ]
    },
    {
      "cell_type": "code",
      "execution_count": null,
      "metadata": {
        "colab": {
          "base_uri": "https://localhost:8080/",
          "height": 206
        },
        "id": "HrvAz4FuEdvO",
        "outputId": "38085c8d-570b-4c9f-e5c1-bb7ba94574e5"
      },
      "outputs": [
        {
          "output_type": "execute_result",
          "data": {
            "text/plain": [
              "       a     b     Error\n",
              "75  0.05 -3.25  0.525112\n",
              "74  0.05 -3.26  0.525114\n",
              "76  0.05 -3.24  0.525127\n",
              "73  0.05 -3.27  0.525134\n",
              "77  0.05 -3.23  0.525159"
            ],
            "text/html": [
              "\n",
              "  <div id=\"df-caa27b58-dcce-4be4-994a-0db463b6b026\">\n",
              "    <div class=\"colab-df-container\">\n",
              "      <div>\n",
              "<style scoped>\n",
              "    .dataframe tbody tr th:only-of-type {\n",
              "        vertical-align: middle;\n",
              "    }\n",
              "\n",
              "    .dataframe tbody tr th {\n",
              "        vertical-align: top;\n",
              "    }\n",
              "\n",
              "    .dataframe thead th {\n",
              "        text-align: right;\n",
              "    }\n",
              "</style>\n",
              "<table border=\"1\" class=\"dataframe\">\n",
              "  <thead>\n",
              "    <tr style=\"text-align: right;\">\n",
              "      <th></th>\n",
              "      <th>a</th>\n",
              "      <th>b</th>\n",
              "      <th>Error</th>\n",
              "    </tr>\n",
              "  </thead>\n",
              "  <tbody>\n",
              "    <tr>\n",
              "      <th>75</th>\n",
              "      <td>0.05</td>\n",
              "      <td>-3.25</td>\n",
              "      <td>0.525112</td>\n",
              "    </tr>\n",
              "    <tr>\n",
              "      <th>74</th>\n",
              "      <td>0.05</td>\n",
              "      <td>-3.26</td>\n",
              "      <td>0.525114</td>\n",
              "    </tr>\n",
              "    <tr>\n",
              "      <th>76</th>\n",
              "      <td>0.05</td>\n",
              "      <td>-3.24</td>\n",
              "      <td>0.525127</td>\n",
              "    </tr>\n",
              "    <tr>\n",
              "      <th>73</th>\n",
              "      <td>0.05</td>\n",
              "      <td>-3.27</td>\n",
              "      <td>0.525134</td>\n",
              "    </tr>\n",
              "    <tr>\n",
              "      <th>77</th>\n",
              "      <td>0.05</td>\n",
              "      <td>-3.23</td>\n",
              "      <td>0.525159</td>\n",
              "    </tr>\n",
              "  </tbody>\n",
              "</table>\n",
              "</div>\n",
              "      <button class=\"colab-df-convert\" onclick=\"convertToInteractive('df-caa27b58-dcce-4be4-994a-0db463b6b026')\"\n",
              "              title=\"Convert this dataframe to an interactive table.\"\n",
              "              style=\"display:none;\">\n",
              "        \n",
              "  <svg xmlns=\"http://www.w3.org/2000/svg\" height=\"24px\"viewBox=\"0 0 24 24\"\n",
              "       width=\"24px\">\n",
              "    <path d=\"M0 0h24v24H0V0z\" fill=\"none\"/>\n",
              "    <path d=\"M18.56 5.44l.94 2.06.94-2.06 2.06-.94-2.06-.94-.94-2.06-.94 2.06-2.06.94zm-11 1L8.5 8.5l.94-2.06 2.06-.94-2.06-.94L8.5 2.5l-.94 2.06-2.06.94zm10 10l.94 2.06.94-2.06 2.06-.94-2.06-.94-.94-2.06-.94 2.06-2.06.94z\"/><path d=\"M17.41 7.96l-1.37-1.37c-.4-.4-.92-.59-1.43-.59-.52 0-1.04.2-1.43.59L10.3 9.45l-7.72 7.72c-.78.78-.78 2.05 0 2.83L4 21.41c.39.39.9.59 1.41.59.51 0 1.02-.2 1.41-.59l7.78-7.78 2.81-2.81c.8-.78.8-2.07 0-2.86zM5.41 20L4 18.59l7.72-7.72 1.47 1.35L5.41 20z\"/>\n",
              "  </svg>\n",
              "      </button>\n",
              "      \n",
              "  <style>\n",
              "    .colab-df-container {\n",
              "      display:flex;\n",
              "      flex-wrap:wrap;\n",
              "      gap: 12px;\n",
              "    }\n",
              "\n",
              "    .colab-df-convert {\n",
              "      background-color: #E8F0FE;\n",
              "      border: none;\n",
              "      border-radius: 50%;\n",
              "      cursor: pointer;\n",
              "      display: none;\n",
              "      fill: #1967D2;\n",
              "      height: 32px;\n",
              "      padding: 0 0 0 0;\n",
              "      width: 32px;\n",
              "    }\n",
              "\n",
              "    .colab-df-convert:hover {\n",
              "      background-color: #E2EBFA;\n",
              "      box-shadow: 0px 1px 2px rgba(60, 64, 67, 0.3), 0px 1px 3px 1px rgba(60, 64, 67, 0.15);\n",
              "      fill: #174EA6;\n",
              "    }\n",
              "\n",
              "    [theme=dark] .colab-df-convert {\n",
              "      background-color: #3B4455;\n",
              "      fill: #D2E3FC;\n",
              "    }\n",
              "\n",
              "    [theme=dark] .colab-df-convert:hover {\n",
              "      background-color: #434B5C;\n",
              "      box-shadow: 0px 1px 3px 1px rgba(0, 0, 0, 0.15);\n",
              "      filter: drop-shadow(0px 1px 2px rgba(0, 0, 0, 0.3));\n",
              "      fill: #FFFFFF;\n",
              "    }\n",
              "  </style>\n",
              "\n",
              "      <script>\n",
              "        const buttonEl =\n",
              "          document.querySelector('#df-caa27b58-dcce-4be4-994a-0db463b6b026 button.colab-df-convert');\n",
              "        buttonEl.style.display =\n",
              "          google.colab.kernel.accessAllowed ? 'block' : 'none';\n",
              "\n",
              "        async function convertToInteractive(key) {\n",
              "          const element = document.querySelector('#df-caa27b58-dcce-4be4-994a-0db463b6b026');\n",
              "          const dataTable =\n",
              "            await google.colab.kernel.invokeFunction('convertToInteractive',\n",
              "                                                     [key], {});\n",
              "          if (!dataTable) return;\n",
              "\n",
              "          const docLinkHtml = 'Like what you see? Visit the ' +\n",
              "            '<a target=\"_blank\" href=https://colab.research.google.com/notebooks/data_table.ipynb>data table notebook</a>'\n",
              "            + ' to learn more about interactive tables.';\n",
              "          element.innerHTML = '';\n",
              "          dataTable['output_type'] = 'display_data';\n",
              "          await google.colab.output.renderOutput(dataTable, element);\n",
              "          const docLink = document.createElement('div');\n",
              "          docLink.innerHTML = docLinkHtml;\n",
              "          element.appendChild(docLink);\n",
              "        }\n",
              "      </script>\n",
              "    </div>\n",
              "  </div>\n",
              "  "
            ]
          },
          "metadata": {},
          "execution_count": 145
        }
      ],
      "source": [
        "dataFrame[ 'Error' ] = dataFrame.apply( sumaErrorDataFrame, axis = 1 )\n",
        "\n",
        "dataFrame.sort_values( by = [ 'Error' ] ).head()"
      ]
    },
    {
      "cell_type": "code",
      "execution_count": null,
      "metadata": {
        "id": "dov288uUEdvP",
        "colab": {
          "base_uri": "https://localhost:8080/",
          "height": 267
        },
        "outputId": "5af0c1a6-08ed-49ad-ecd2-418b37ff9b4b"
      },
      "outputs": [
        {
          "output_type": "execute_result",
          "data": {
            "text/plain": [
              "b        -4.00     -3.99     -3.98     -3.97     -3.96     -3.95     -3.94  \\\n",
              "a                                                                            \n",
              "0.05  0.567116  0.566071  0.565037  0.564015  0.563004  0.562004  0.561016   \n",
              "0.06  0.534601  0.534125  0.533664  0.533217  0.532785  0.532367  0.531964   \n",
              "0.07  0.531837  0.532056  0.532292  0.532545  0.532816  0.533105  0.533410   \n",
              "0.08  0.563106  0.564116  0.565145  0.566194  0.567262  0.568350  0.569458   \n",
              "0.09  0.630770  0.632622  0.634496  0.636390  0.638305  0.640240  0.642196   \n",
              "\n",
              "b        -3.93     -3.92     -3.91  ...     -2.10     -2.09     -2.08  \\\n",
              "a                                   ...                                 \n",
              "0.05  0.560039  0.559074  0.558121  ...  0.657063  0.659482  0.661925   \n",
              "0.06  0.531576  0.531203  0.530844  ...  0.778568  0.781901  0.785256   \n",
              "0.07  0.533734  0.534075  0.534434  ...  0.936906  0.941064  0.945241   \n",
              "0.08  0.570585  0.571732  0.572899  ...  1.126711  1.131570  1.136445   \n",
              "0.09  0.644172  0.646170  0.648188  ...  1.342044  1.347473  1.352917   \n",
              "\n",
              "b        -2.07     -2.06     -2.05     -2.04     -2.03     -2.02     -2.01  \n",
              "a                                                                           \n",
              "0.05  0.664390  0.666879  0.669391  0.671926  0.674484  0.677066  0.679671  \n",
              "0.06  0.788633  0.792032  0.795453  0.798897  0.802362  0.805849  0.809358  \n",
              "0.07  0.949437  0.953654  0.957890  0.962146  0.966421  0.970716  0.975030  \n",
              "0.08  1.141338  1.146247  1.151173  1.156116  1.161076  1.166052  1.171045  \n",
              "0.09  1.358374  1.363845  1.369330  1.374829  1.380342  1.385868  1.391408  \n",
              "\n",
              "[5 rows x 200 columns]"
            ],
            "text/html": [
              "\n",
              "  <div id=\"df-c7c98700-a11d-4226-bb36-820acb908616\">\n",
              "    <div class=\"colab-df-container\">\n",
              "      <div>\n",
              "<style scoped>\n",
              "    .dataframe tbody tr th:only-of-type {\n",
              "        vertical-align: middle;\n",
              "    }\n",
              "\n",
              "    .dataframe tbody tr th {\n",
              "        vertical-align: top;\n",
              "    }\n",
              "\n",
              "    .dataframe thead th {\n",
              "        text-align: right;\n",
              "    }\n",
              "</style>\n",
              "<table border=\"1\" class=\"dataframe\">\n",
              "  <thead>\n",
              "    <tr style=\"text-align: right;\">\n",
              "      <th>b</th>\n",
              "      <th>-4.00</th>\n",
              "      <th>-3.99</th>\n",
              "      <th>-3.98</th>\n",
              "      <th>-3.97</th>\n",
              "      <th>-3.96</th>\n",
              "      <th>-3.95</th>\n",
              "      <th>-3.94</th>\n",
              "      <th>-3.93</th>\n",
              "      <th>-3.92</th>\n",
              "      <th>-3.91</th>\n",
              "      <th>...</th>\n",
              "      <th>-2.10</th>\n",
              "      <th>-2.09</th>\n",
              "      <th>-2.08</th>\n",
              "      <th>-2.07</th>\n",
              "      <th>-2.06</th>\n",
              "      <th>-2.05</th>\n",
              "      <th>-2.04</th>\n",
              "      <th>-2.03</th>\n",
              "      <th>-2.02</th>\n",
              "      <th>-2.01</th>\n",
              "    </tr>\n",
              "    <tr>\n",
              "      <th>a</th>\n",
              "      <th></th>\n",
              "      <th></th>\n",
              "      <th></th>\n",
              "      <th></th>\n",
              "      <th></th>\n",
              "      <th></th>\n",
              "      <th></th>\n",
              "      <th></th>\n",
              "      <th></th>\n",
              "      <th></th>\n",
              "      <th></th>\n",
              "      <th></th>\n",
              "      <th></th>\n",
              "      <th></th>\n",
              "      <th></th>\n",
              "      <th></th>\n",
              "      <th></th>\n",
              "      <th></th>\n",
              "      <th></th>\n",
              "      <th></th>\n",
              "      <th></th>\n",
              "    </tr>\n",
              "  </thead>\n",
              "  <tbody>\n",
              "    <tr>\n",
              "      <th>0.05</th>\n",
              "      <td>0.567116</td>\n",
              "      <td>0.566071</td>\n",
              "      <td>0.565037</td>\n",
              "      <td>0.564015</td>\n",
              "      <td>0.563004</td>\n",
              "      <td>0.562004</td>\n",
              "      <td>0.561016</td>\n",
              "      <td>0.560039</td>\n",
              "      <td>0.559074</td>\n",
              "      <td>0.558121</td>\n",
              "      <td>...</td>\n",
              "      <td>0.657063</td>\n",
              "      <td>0.659482</td>\n",
              "      <td>0.661925</td>\n",
              "      <td>0.664390</td>\n",
              "      <td>0.666879</td>\n",
              "      <td>0.669391</td>\n",
              "      <td>0.671926</td>\n",
              "      <td>0.674484</td>\n",
              "      <td>0.677066</td>\n",
              "      <td>0.679671</td>\n",
              "    </tr>\n",
              "    <tr>\n",
              "      <th>0.06</th>\n",
              "      <td>0.534601</td>\n",
              "      <td>0.534125</td>\n",
              "      <td>0.533664</td>\n",
              "      <td>0.533217</td>\n",
              "      <td>0.532785</td>\n",
              "      <td>0.532367</td>\n",
              "      <td>0.531964</td>\n",
              "      <td>0.531576</td>\n",
              "      <td>0.531203</td>\n",
              "      <td>0.530844</td>\n",
              "      <td>...</td>\n",
              "      <td>0.778568</td>\n",
              "      <td>0.781901</td>\n",
              "      <td>0.785256</td>\n",
              "      <td>0.788633</td>\n",
              "      <td>0.792032</td>\n",
              "      <td>0.795453</td>\n",
              "      <td>0.798897</td>\n",
              "      <td>0.802362</td>\n",
              "      <td>0.805849</td>\n",
              "      <td>0.809358</td>\n",
              "    </tr>\n",
              "    <tr>\n",
              "      <th>0.07</th>\n",
              "      <td>0.531837</td>\n",
              "      <td>0.532056</td>\n",
              "      <td>0.532292</td>\n",
              "      <td>0.532545</td>\n",
              "      <td>0.532816</td>\n",
              "      <td>0.533105</td>\n",
              "      <td>0.533410</td>\n",
              "      <td>0.533734</td>\n",
              "      <td>0.534075</td>\n",
              "      <td>0.534434</td>\n",
              "      <td>...</td>\n",
              "      <td>0.936906</td>\n",
              "      <td>0.941064</td>\n",
              "      <td>0.945241</td>\n",
              "      <td>0.949437</td>\n",
              "      <td>0.953654</td>\n",
              "      <td>0.957890</td>\n",
              "      <td>0.962146</td>\n",
              "      <td>0.966421</td>\n",
              "      <td>0.970716</td>\n",
              "      <td>0.975030</td>\n",
              "    </tr>\n",
              "    <tr>\n",
              "      <th>0.08</th>\n",
              "      <td>0.563106</td>\n",
              "      <td>0.564116</td>\n",
              "      <td>0.565145</td>\n",
              "      <td>0.566194</td>\n",
              "      <td>0.567262</td>\n",
              "      <td>0.568350</td>\n",
              "      <td>0.569458</td>\n",
              "      <td>0.570585</td>\n",
              "      <td>0.571732</td>\n",
              "      <td>0.572899</td>\n",
              "      <td>...</td>\n",
              "      <td>1.126711</td>\n",
              "      <td>1.131570</td>\n",
              "      <td>1.136445</td>\n",
              "      <td>1.141338</td>\n",
              "      <td>1.146247</td>\n",
              "      <td>1.151173</td>\n",
              "      <td>1.156116</td>\n",
              "      <td>1.161076</td>\n",
              "      <td>1.166052</td>\n",
              "      <td>1.171045</td>\n",
              "    </tr>\n",
              "    <tr>\n",
              "      <th>0.09</th>\n",
              "      <td>0.630770</td>\n",
              "      <td>0.632622</td>\n",
              "      <td>0.634496</td>\n",
              "      <td>0.636390</td>\n",
              "      <td>0.638305</td>\n",
              "      <td>0.640240</td>\n",
              "      <td>0.642196</td>\n",
              "      <td>0.644172</td>\n",
              "      <td>0.646170</td>\n",
              "      <td>0.648188</td>\n",
              "      <td>...</td>\n",
              "      <td>1.342044</td>\n",
              "      <td>1.347473</td>\n",
              "      <td>1.352917</td>\n",
              "      <td>1.358374</td>\n",
              "      <td>1.363845</td>\n",
              "      <td>1.369330</td>\n",
              "      <td>1.374829</td>\n",
              "      <td>1.380342</td>\n",
              "      <td>1.385868</td>\n",
              "      <td>1.391408</td>\n",
              "    </tr>\n",
              "  </tbody>\n",
              "</table>\n",
              "<p>5 rows × 200 columns</p>\n",
              "</div>\n",
              "      <button class=\"colab-df-convert\" onclick=\"convertToInteractive('df-c7c98700-a11d-4226-bb36-820acb908616')\"\n",
              "              title=\"Convert this dataframe to an interactive table.\"\n",
              "              style=\"display:none;\">\n",
              "        \n",
              "  <svg xmlns=\"http://www.w3.org/2000/svg\" height=\"24px\"viewBox=\"0 0 24 24\"\n",
              "       width=\"24px\">\n",
              "    <path d=\"M0 0h24v24H0V0z\" fill=\"none\"/>\n",
              "    <path d=\"M18.56 5.44l.94 2.06.94-2.06 2.06-.94-2.06-.94-.94-2.06-.94 2.06-2.06.94zm-11 1L8.5 8.5l.94-2.06 2.06-.94-2.06-.94L8.5 2.5l-.94 2.06-2.06.94zm10 10l.94 2.06.94-2.06 2.06-.94-2.06-.94-.94-2.06-.94 2.06-2.06.94z\"/><path d=\"M17.41 7.96l-1.37-1.37c-.4-.4-.92-.59-1.43-.59-.52 0-1.04.2-1.43.59L10.3 9.45l-7.72 7.72c-.78.78-.78 2.05 0 2.83L4 21.41c.39.39.9.59 1.41.59.51 0 1.02-.2 1.41-.59l7.78-7.78 2.81-2.81c.8-.78.8-2.07 0-2.86zM5.41 20L4 18.59l7.72-7.72 1.47 1.35L5.41 20z\"/>\n",
              "  </svg>\n",
              "      </button>\n",
              "      \n",
              "  <style>\n",
              "    .colab-df-container {\n",
              "      display:flex;\n",
              "      flex-wrap:wrap;\n",
              "      gap: 12px;\n",
              "    }\n",
              "\n",
              "    .colab-df-convert {\n",
              "      background-color: #E8F0FE;\n",
              "      border: none;\n",
              "      border-radius: 50%;\n",
              "      cursor: pointer;\n",
              "      display: none;\n",
              "      fill: #1967D2;\n",
              "      height: 32px;\n",
              "      padding: 0 0 0 0;\n",
              "      width: 32px;\n",
              "    }\n",
              "\n",
              "    .colab-df-convert:hover {\n",
              "      background-color: #E2EBFA;\n",
              "      box-shadow: 0px 1px 2px rgba(60, 64, 67, 0.3), 0px 1px 3px 1px rgba(60, 64, 67, 0.15);\n",
              "      fill: #174EA6;\n",
              "    }\n",
              "\n",
              "    [theme=dark] .colab-df-convert {\n",
              "      background-color: #3B4455;\n",
              "      fill: #D2E3FC;\n",
              "    }\n",
              "\n",
              "    [theme=dark] .colab-df-convert:hover {\n",
              "      background-color: #434B5C;\n",
              "      box-shadow: 0px 1px 3px 1px rgba(0, 0, 0, 0.15);\n",
              "      filter: drop-shadow(0px 1px 2px rgba(0, 0, 0, 0.3));\n",
              "      fill: #FFFFFF;\n",
              "    }\n",
              "  </style>\n",
              "\n",
              "      <script>\n",
              "        const buttonEl =\n",
              "          document.querySelector('#df-c7c98700-a11d-4226-bb36-820acb908616 button.colab-df-convert');\n",
              "        buttonEl.style.display =\n",
              "          google.colab.kernel.accessAllowed ? 'block' : 'none';\n",
              "\n",
              "        async function convertToInteractive(key) {\n",
              "          const element = document.querySelector('#df-c7c98700-a11d-4226-bb36-820acb908616');\n",
              "          const dataTable =\n",
              "            await google.colab.kernel.invokeFunction('convertToInteractive',\n",
              "                                                     [key], {});\n",
              "          if (!dataTable) return;\n",
              "\n",
              "          const docLinkHtml = 'Like what you see? Visit the ' +\n",
              "            '<a target=\"_blank\" href=https://colab.research.google.com/notebooks/data_table.ipynb>data table notebook</a>'\n",
              "            + ' to learn more about interactive tables.';\n",
              "          element.innerHTML = '';\n",
              "          dataTable['output_type'] = 'display_data';\n",
              "          await google.colab.output.renderOutput(dataTable, element);\n",
              "          const docLink = document.createElement('div');\n",
              "          docLink.innerHTML = docLinkHtml;\n",
              "          element.appendChild(docLink);\n",
              "        }\n",
              "      </script>\n",
              "    </div>\n",
              "  </div>\n",
              "  "
            ]
          },
          "metadata": {},
          "execution_count": 146
        }
      ],
      "source": [
        "dataFrame3d = dataFrame.pivot( index = 'a', columns = 'b', values = 'Error')\n",
        "\n",
        "dataFrame3d.head()"
      ]
    },
    {
      "cell_type": "code",
      "execution_count": null,
      "metadata": {
        "id": "AydEI2dgEdvP",
        "colab": {
          "base_uri": "https://localhost:8080/",
          "height": 276
        },
        "outputId": "de24ade6-a077-46be-e95e-3c6bcfd1d537"
      },
      "outputs": [
        {
          "output_type": "execute_result",
          "data": {
            "text/plain": [
              "<mpl_toolkits.mplot3d.art3d.Poly3DCollection at 0x7f27c4368490>"
            ]
          },
          "metadata": {},
          "execution_count": 147
        },
        {
          "output_type": "display_data",
          "data": {
            "text/plain": [
              "<Figure size 432x288 with 1 Axes>"
            ],
            "image/png": "[encoded data removed]"
          },
          "metadata": {
            "needs_background": "light"
          }
        }
      ],
      "source": [
        "import matplotlib as mpl\n",
        "import matplotlib.pyplot as plt\n",
        "from mpl_toolkits.mplot3d import Axes3D\n",
        "\n",
        "x = dataFrame3d.columns\n",
        "y = dataFrame3d.index\n",
        "X, Y = np.meshgrid( x, y )\n",
        "Z = dataFrame3d\n",
        "\n",
        "figure = plt.figure()\n",
        "ax = figure.add_subplot( 111, projection = '3d' )\n",
        "ax.plot_surface( X, Y, Z )"
      ]
    },
    {
      "cell_type": "code",
      "execution_count": null,
      "metadata": {
        "colab": {
          "base_uri": "https://localhost:8080/",
          "height": 282
        },
        "id": "GUTtfnehEdvQ",
        "outputId": "971838d3-76d0-4feb-a03d-b6d34f17b8b0"
      },
      "outputs": [
        {
          "output_type": "execute_result",
          "data": {
            "text/plain": [
              "<matplotlib.contour.QuadContourSet at 0x7f27c71b7220>"
            ]
          },
          "metadata": {},
          "execution_count": 148
        },
        {
          "output_type": "display_data",
          "data": {
            "text/plain": [
              "<Figure size 432x288 with 1 Axes>"
            ],
            "image/png": "[encoded data removed]"
          },
          "metadata": {
            "needs_background": "light"
          }
        }
      ],
      "source": [
        "x = dataFrame3d.columns\n",
        "y = dataFrame3d.index\n",
        "X, Y = np.meshgrid( x,y )\n",
        "Z = dataFrame3d\n",
        "plt.contourf( Y, X, Z, alpha=0.7, cmap=plt.cm.jet )"
      ]
    },
    {
      "cell_type": "markdown",
      "source": [
        "Vamos a utilizar el método del gradiente descendente para calcular los valores optimos de $a,b$.\n",
        "\n",
        "Para esto tenemos que calcular el gradiente para $a,b$ con respecto de la función J (esta es la que hemos gráficado), sus funciones son\n",
        "\n",
        "$$ \\frac{\\partial}{\\partial a}J\\left(a,b\\right)=\\frac{1}{m}\\sum_{i=1}^{m}\\left(f_{a,b}\\left(\\vec{x}^{(i)}\\right)-y^{(i)}\\right)x^{(i)} $$\n",
        "\n",
        "$$ \\frac{\\partial}{\\partial b}J\\left(a,b\\right)=\\frac{1}{m}\\sum_{i=1}^{m}\\left(f_{a,b}\\left(\\vec{x}^{(i)}\\right)-y^{(i)}\\right)$$"
      ],
      "metadata": {
        "id": "VcrLogNynNWv"
      }
    },
    {
      "cell_type": "code",
      "source": [
        "#Optimizando los parametros elejidos a ojo\n",
        "def deltaA( a, b ):\n",
        "  data[ 'id' ] = 1 / ( 1 + np.exp( -( data[ 'Hpw' ] * a + b ) ) )\n",
        "  data[ 'loss_xi' ] = ( data[ 'id' ] - data[ 'C' ] ) * data[ 'Hpw' ]\n",
        "  return data[ 'loss_xi' ].mean()\n",
        "\n",
        "def deltaB( a, b ):\n",
        "  data[ 'id' ] = 1 / ( 1 + np.exp( -( data[ 'Hpw' ] * a + b ) ) )\n",
        "  data[ 'loss_xi' ] = ( data[ 'id' ] - data[ 'C' ] )\n",
        "  return data[ 'loss_xi' ].mean()"
      ],
      "metadata": {
        "id": "cP_ZSjO7nPa8"
      },
      "execution_count": null,
      "outputs": []
    },
    {
      "cell_type": "code",
      "source": [
        "a0 = 0.09\n",
        "b0 = -3.6"
      ],
      "metadata": {
        "id": "5KvVzrFcUHjb"
      },
      "execution_count": null,
      "outputs": []
    },
    {
      "cell_type": "code",
      "execution_count": null,
      "metadata": {
        "colab": {
          "base_uri": "https://localhost:8080/"
        },
        "id": "M4fIXVn1EdvQ",
        "outputId": "7196cf3f-e3aa-43b0-b7e3-50d746d959b3"
      },
      "outputs": [
        {
          "output_type": "stream",
          "name": "stdout",
          "text": [
            "0.05766635386484101 -3.616932503026229\n"
          ]
        }
      ],
      "source": [
        "#Empezamos a iterar hasta obtener valores que no varíen tanto\n",
        "\n",
        "for _ in range( 100 ):\n",
        "  alphaA = 0.001\n",
        "  alphaB = 0.1\n",
        "\n",
        "  nuevoA = a0 - alphaA * deltaA( a0, b0 )\n",
        "  nuevoB = b0 - alphaB * deltaB( a0, b0 )\n",
        "\n",
        "  a0 = nuevoA\n",
        "  b0 = nuevoB\n",
        "\n",
        "print( a0, b0 )"
      ]
    }
  ],
  "metadata": {
    "accelerator": "GPU",
    "celltoolbar": "Slideshow",
    "colab": {
      "provenance": []
    },
    "kernelspec": {
      "display_name": "Python 3",
      "language": "python",
      "name": "python3"
    },
    "language_info": {
      "codemirror_mode": {
        "name": "ipython",
        "version": 3
      },
      "file_extension": ".py",
      "mimetype": "text/x-python",
      "name": "python",
      "nbconvert_exporter": "python",
      "pygments_lexer": "ipython3",
      "version": "3.7.6"
    }
  },
  "nbformat": 4,
  "nbformat_minor": 0
}