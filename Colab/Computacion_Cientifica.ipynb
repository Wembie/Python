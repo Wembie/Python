{
  "nbformat": 4,
  "nbformat_minor": 0,
  "metadata": {
    "colab": {
      "provenance": [],
      "toc_visible": true
    },
    "kernelspec": {
      "name": "python3",
      "display_name": "Python 3"
    },
    "language_info": {
      "name": "python"
    }
  },
  "cells": [
    {
      "cell_type": "markdown",
      "source": [
        "# Corte 1"
      ],
      "metadata": {
        "id": "fqk5qxgA6E7I"
      }
    },
    {
      "cell_type": "markdown",
      "source": [
        "# Importacion de Modulos"
      ],
      "metadata": {
        "id": "znhQGYUWtJIj"
      }
    },
    {
      "cell_type": "code",
      "execution_count": null,
      "metadata": {
        "id": "OfQlOQIQr4qY"
      },
      "outputs": [],
      "source": [
        "#from NOMBRE_MODULO import *\n",
        "#from NOMBRE_MODULO import funcion1, funcion2"
      ]
    },
    {
      "cell_type": "markdown",
      "source": [
        "# Actividad 1"
      ],
      "metadata": {
        "id": "XerRG-zZvXK7"
      }
    },
    {
      "cell_type": "code",
      "source": [
        "import math as m\n",
        "\n",
        "#help( m )\n",
        "\n",
        "z = 4\n",
        "\n",
        "#1\n",
        "\n",
        "print( ( z ** 2 + 13 ) / ( m.sqrt(z + 2 ) ) )\n",
        "\n",
        "2#\n",
        "\n",
        "print( ( m.sin( z + 3 ) -  m.cos( z ** 2 ) ) * z )"
      ],
      "metadata": {
        "colab": {
          "base_uri": "https://localhost:8080/"
        },
        "id": "hNpk_xHCwWRt",
        "outputId": "51d86eea-0634-4f2e-f99d-663417099af4"
      },
      "execution_count": null,
      "outputs": [
        {
          "output_type": "stream",
          "name": "stdout",
          "text": [
            "11.839200423452029\n",
            "6.458584316168695\n"
          ]
        }
      ]
    },
    {
      "cell_type": "markdown",
      "source": [
        "# Numpy"
      ],
      "metadata": {
        "id": "z_rVRBxrx84k"
      }
    },
    {
      "cell_type": "code",
      "source": [
        "import numpy as np\n",
        "\n",
        "a = np.array( [ [ 2.0, -1.0 ], [ -1.0, 3.0 ] ] )\n",
        "print( a )\n",
        "\n",
        "b = np.array( [ [ 3, -4, -5, 0 ], [ 5, 1, 1, 3 ], [ 2, 4, np.pi, 6 ] ] )\n",
        "print( b )"
      ],
      "metadata": {
        "colab": {
          "base_uri": "https://localhost:8080/"
        },
        "id": "NjWOocYMx-4z",
        "outputId": "e331c823-33fa-48d2-daeb-15a36f56be57"
      },
      "execution_count": null,
      "outputs": [
        {
          "output_type": "stream",
          "name": "stdout",
          "text": [
            "[[ 2. -1.]\n",
            " [-1.  3.]]\n",
            "[[ 3.         -4.         -5.          0.        ]\n",
            " [ 5.          1.          1.          3.        ]\n",
            " [ 2.          4.          3.14159265  6.        ]]\n"
          ]
        }
      ]
    },
    {
      "cell_type": "markdown",
      "source": [
        "# Funciones Importantes ( ALGUNAS )"
      ],
      "metadata": {
        "id": "D0lRoRUSzeU0"
      }
    },
    {
      "cell_type": "code",
      "source": [
        "import numpy as np\n",
        "\n",
        "a = np.zeros( ( 3, 3 ) ) #Se crea matriz 3x3 con ceros\n",
        "b = np.ones( ( 3, 3 ) ) #Se crea matriz 3x3 con unos\n",
        "c = np.transpose( b ) #Crear Transpuesta\n",
        "d = np.linalg.det( np.array( [ [ 2.0, -1.0 ], [ -1.0, 3.0 ] ] ) ) #Determinante Matriz\n",
        "e = np.linalg.inv( np.array( [ [ 2.0, -1.0 ], [ -1.0, 3.0 ] ] ) ) #Inversa de una Matriz\n",
        "f = np.eye( 3 ) #Matriz Identidad\n",
        "\n",
        "print( a, \"\\n\\n\", b, \"\\n\\n\", c, \"\\n\\n\", d, \"\\n\\n\", e, \"\\n\\n\", f )"
      ],
      "metadata": {
        "colab": {
          "base_uri": "https://localhost:8080/"
        },
        "id": "fX3Z4HfOzhXk",
        "outputId": "c809febc-d690-4f61-c430-4a2626924771"
      },
      "execution_count": null,
      "outputs": [
        {
          "output_type": "stream",
          "name": "stdout",
          "text": [
            "[[0. 0. 0.]\n",
            " [0. 0. 0.]\n",
            " [0. 0. 0.]] \n",
            "\n",
            " [[1. 1. 1.]\n",
            " [1. 1. 1.]\n",
            " [1. 1. 1.]] \n",
            "\n",
            " [[1. 1. 1.]\n",
            " [1. 1. 1.]\n",
            " [1. 1. 1.]] \n",
            "\n",
            " 5.000000000000001 \n",
            "\n",
            " [[0.6 0.2]\n",
            " [0.2 0.4]] \n",
            "\n",
            " [[1. 0. 0.]\n",
            " [0. 1. 0.]\n",
            " [0. 0. 1.]]\n"
          ]
        }
      ]
    },
    {
      "cell_type": "markdown",
      "source": [
        "# Copiar de una matrix con cosas raras"
      ],
      "metadata": {
        "id": "YQNbiUYm211C"
      }
    },
    {
      "cell_type": "code",
      "source": [
        "import numpy as np\n",
        "\n",
        "b = np.array( [ [ 3, -4, -5, 0 ], [ 5, 1, 1, 3 ], [ 2, 4, np.pi, 6 ] ] )\n",
        "\n",
        "c = b[ 1 : 2 + 1 : 1, 1 : 3 + 1 : 1 ] #Tomando b de la seccion Numpy\n",
        "\n",
        "print( c )"
      ],
      "metadata": {
        "id": "4ImCbYoL26-S",
        "colab": {
          "base_uri": "https://localhost:8080/"
        },
        "outputId": "285cea08-bf00-4b90-b243-a635a834de94"
      },
      "execution_count": null,
      "outputs": [
        {
          "output_type": "stream",
          "name": "stdout",
          "text": [
            "[[1.         1.         3.        ]\n",
            " [4.         3.14159265 6.        ]]\n"
          ]
        }
      ]
    },
    {
      "cell_type": "markdown",
      "source": [
        "# Operaciones con Matrices"
      ],
      "metadata": {
        "id": "8zdoTzYJ2RAN"
      }
    },
    {
      "cell_type": "code",
      "source": [
        "import numpy as np\n",
        "\n",
        "matriz1 = np.array( [ [ 3, -4, -5, 0 ], [ 5, 1, 1, 3 ], [ 2, 4, np.pi, 6 ], [ 2, 3, 5, 4 ] ] )\n",
        "matriz2 = np.array( [ [ 2, -2, -1, 5 ], [ 2, 3, 5, 4 ], [ 1, 3, 4, 10 ], [ 5, 1, 1, 3 ] ] )\n",
        "\n",
        "#Suma mismo tamaño\n",
        "#Resta mismo tamaño\n",
        "\n",
        "#Producto\n",
        "\n",
        "resultado = np.matmul( matriz1, matriz2 ) #Columnas de matriz1 debe coincidir con el numero de filas de matriz2\n",
        "print( resultado )\n",
        "#o\n",
        "resultado = matriz1.dot( matriz2 )\n",
        "print( resultado )\n",
        "\n",
        "#Potencia\n",
        "potencia = 2\n",
        "\n",
        "resultado = np.linalg.matrix_power( matriz1, potencia )\n",
        "print( resultado )"
      ],
      "metadata": {
        "colab": {
          "base_uri": "https://localhost:8080/"
        },
        "id": "EsB5B7P52Ysg",
        "outputId": "83a9585c-ec38-4c5a-b969-3886a5bcce93"
      },
      "execution_count": null,
      "outputs": [
        {
          "output_type": "stream",
          "name": "stdout",
          "text": [
            "[[ -7.         -33.         -43.         -51.        ]\n",
            " [ 28.          -1.           7.          48.        ]\n",
            " [ 45.14159265  23.42477796  36.56637061  75.41592654]\n",
            " [ 35.          24.          37.          84.        ]]\n",
            "[[ -7.         -33.         -43.         -51.        ]\n",
            " [ 28.          -1.           7.          48.        ]\n",
            " [ 45.14159265  23.42477796  36.56637061  75.41592654]\n",
            " [ 35.          24.          37.          84.        ]]\n",
            "[[-21.         -36.         -34.70796327 -42.        ]\n",
            " [ 28.          -6.          -5.85840735  21.        ]\n",
            " [ 44.28318531  26.56637061  33.8696044   54.84955592]\n",
            " [ 39.          27.          28.70796327  55.        ]]\n"
          ]
        }
      ]
    },
    {
      "cell_type": "markdown",
      "source": [
        "# Ejercicios"
      ],
      "metadata": {
        "id": "PAUFOXvU5Qxk"
      }
    },
    {
      "cell_type": "code",
      "source": [
        "import numpy as np\n",
        "\n",
        "#np.random.randint( 10, size = ( 5, 5 ) )\n",
        "\n",
        "matriz = np.random.randint( 10, size = ( 5, 5 ) )\n",
        "matrix = np.random.randint( 10, size = ( 5, 5 ) )\n",
        "print( matriz )\n",
        "\n",
        "matrizPow = np.linalg.matrix_power( np.matmul( matriz, matrix ), 4 )\n",
        "matrizPowMal = ( matriz * matrix ) ** 4\n",
        "print( matrizPow, matrizPowMal )\n",
        "\n",
        "fila5 = matriz[ 4, : ]\n",
        "columna3 = matriz[ :, 2 ]\n",
        "\n",
        "resultado = np.matmul( fila5, columna3 )\n",
        "print( resultado )\n",
        "\n",
        "\n"
      ],
      "metadata": {
        "colab": {
          "base_uri": "https://localhost:8080/"
        },
        "id": "65jAvN205Wi2",
        "outputId": "bd7301a3-ca00-4163-f201-e97be7eb7199"
      },
      "execution_count": null,
      "outputs": [
        {
          "output_type": "stream",
          "name": "stdout",
          "text": [
            "[[7 9 8 4 7]\n",
            " [8 7 7 0 0]\n",
            " [1 7 2 7 8]\n",
            " [2 7 6 0 1]\n",
            " [3 1 4 7 3]]\n",
            "[[13243001547 12141066098 12557203213 19945060520 15738091191]\n",
            " [ 9336897482  8559884388  8853259040 14062903100 11095981356]\n",
            " [ 8075089084  7403491946  7657441330 12161475266  9597265928]\n",
            " [ 5528588330  5068400372  5242251960  8326568202  6569394054]\n",
            " [ 8003573018  7338469242  7590193052 12055024488  9514825614]] [[ 5764801 26873856 26873856      256   614656]\n",
            " [       0    38416        0        0        0]\n",
            " [    1296   194481     1296 15752961  5308416]\n",
            " [   38416  1500625   104976        0        1]\n",
            " [       0        0   160000  5764801    50625]]\n",
            "93\n"
          ]
        }
      ]
    },
    {
      "cell_type": "markdown",
      "source": [
        "# Funciones"
      ],
      "metadata": {
        "id": "K4TDU4Hz_FcJ"
      }
    },
    {
      "cell_type": "code",
      "source": [
        "import math\n",
        "\n",
        "def sumaResta( a, b ):\n",
        "  suma = a + b\n",
        "  resta = a - b\n",
        "  return suma, resta\n",
        "\n",
        "print( f\"Resultado Funcion: { sumaResta( 1, 2 ) }\" )\n",
        "print( f\"Resultado Suma: { sumaResta( 1, 2 )[ 0 ] }\" )\n",
        "print( f\"Resultado Resta: { sumaResta( 1, 2 )[ 1 ] }\" )\n",
        "\n",
        "def funcion( x ):\n",
        "  y = math.cos( x ) / math.exp( x )\n",
        "  return y\n",
        "\n",
        "lambdita = lambda x : math.cos( x ) / math.exp( x )\n",
        "\n",
        "print( lambdita( 3 ) )\n",
        "print( funcion( 3 ) )\n",
        "\n",
        "#Ejercicio\n",
        "\n",
        "a = lambda a, b : ( a + b ) / 2\n",
        "print( a( 4, 5 ) )\n",
        "\n",
        "b = lambda lista : sum( lista ) / len( lista )\n",
        "print( b( [ 3, 4, 5, 7 ] ) )"
      ],
      "metadata": {
        "colab": {
          "base_uri": "https://localhost:8080/"
        },
        "id": "QXDgWbNf_HaJ",
        "outputId": "24e6ce70-126e-4124-9f6d-a2440339ca32"
      },
      "execution_count": null,
      "outputs": [
        {
          "output_type": "stream",
          "name": "stdout",
          "text": [
            "Resultado Funcion: (3, -1)\n",
            "Resultado Suma: 3\n",
            "Resultado Resta: -1\n",
            "-0.049288824111918685\n",
            "-0.049288824111918685\n",
            "4.5\n",
            "4.75\n"
          ]
        }
      ]
    },
    {
      "cell_type": "markdown",
      "source": [
        "# Sumatoria"
      ],
      "metadata": {
        "id": "ICNvRXyLDKWY"
      }
    },
    {
      "cell_type": "code",
      "source": [
        "import math \n",
        "\n",
        "suma = 0\n",
        "for i in range( 1, 11, 1 ): #Se le suma uno al limite superior\n",
        "  suma += i ** 2 / ( math.sin( i ) + 2 )\n",
        "print( suma )\n",
        "\n",
        "def sumita( n ):\n",
        "  suma = 0\n",
        "  for i in range( 1, n + 1, 1 ): #Se le suma uno al limite superior\n",
        "    suma += i ** 2 / ( math.sin( i ) + 2 )\n",
        "  return suma\n",
        "\n",
        "print( sumita( 10 ) )\n",
        "\n",
        "def productico( n ):\n",
        "  producto = 1\n",
        "  for i in range( 1, n + 1, 1 ): #Se le suma uno al limite superior\n",
        "    producto *= i ** 2 / ( math.sin( i ) + 2 )\n",
        "  return producto\n",
        "\n",
        "print( productico( 10 ) )\n",
        "\n",
        "# - o -\n",
        "\n",
        "a = np.array( [ -1, 0, 1, 2, 3 ] )\n",
        "y1 = np.cos( a ) / np.exp( a )\n",
        "print( y1 )\n",
        "\n",
        "g = lambda x : abs( ( x ** 2 ) - 3 )\n",
        "x = np.linspace( -2, 5, 50 ) #Pariticio con intervalo desde -2 hasta 5 con 49 o 50 particiones\n",
        "print( g( x ) )"
      ],
      "metadata": {
        "colab": {
          "base_uri": "https://localhost:8080/"
        },
        "id": "JUv3oePWDL1d",
        "outputId": "6847e426-1ccf-4f36-d958-1041285ded14"
      },
      "execution_count": null,
      "outputs": [
        {
          "output_type": "stream",
          "name": "stdout",
          "text": [
            "205.85100101834854\n",
            "205.85100101834854\n",
            "11976618274.1726\n",
            "[ 1.46869394  1.          0.19876611 -0.05631935 -0.04928882]\n",
            "[ 1.          0.44897959  0.06122449  0.53061224  0.95918367  1.34693878\n",
            "  1.69387755  2.          2.26530612  2.48979592  2.67346939  2.81632653\n",
            "  2.91836735  2.97959184  3.          2.97959184  2.91836735  2.81632653\n",
            "  2.67346939  2.48979592  2.26530612  2.          1.69387755  1.34693878\n",
            "  0.95918367  0.53061224  0.06122449  0.44897959  1.          1.59183673\n",
            "  2.2244898   2.89795918  3.6122449   4.36734694  5.16326531  6.\n",
            "  6.87755102  7.79591837  8.75510204  9.75510204 10.79591837 11.87755102\n",
            " 13.         14.16326531 15.36734694 16.6122449  17.89795918 19.2244898\n",
            " 20.59183673 22.        ]\n"
          ]
        }
      ]
    },
    {
      "cell_type": "markdown",
      "source": [
        "# Funciones"
      ],
      "metadata": {
        "id": "zG-VC-iaLXOo"
      }
    },
    {
      "cell_type": "code",
      "source": [
        "def mayorFacil( a, b, c ):\n",
        "  return max( a, b, c )\n",
        "\n",
        "def mayorLargo( a, b, c ):\n",
        "  if a < b and c < b:\n",
        "    return b\n",
        "  elif b < a and c < a:\n",
        "    return a\n",
        "  else:\n",
        "    return c\n",
        "\n",
        "print( mayorFacil( 2, 3, 4 ), mayorLargo( 2, 3, 4 ) )\n",
        "\n",
        "def vectorMaxIndice( lista ):\n",
        "  maximo = max( lista )\n",
        "  return maximo, lista.index( maximo )\n",
        "\n",
        "print( vectorMaxIndice( [ 2, 3, 4 ] ) )"
      ],
      "metadata": {
        "colab": {
          "base_uri": "https://localhost:8080/"
        },
        "id": "KWQdZ0YJLW7S",
        "outputId": "55ec2a4a-211e-4b06-b7dd-48f69633b9fb"
      },
      "execution_count": null,
      "outputs": [
        {
          "output_type": "stream",
          "name": "stdout",
          "text": [
            "4 4\n",
            "(4, 2)\n"
          ]
        }
      ]
    },
    {
      "cell_type": "code",
      "source": [
        "import numpy as np\n",
        "\n",
        "def matrizProbabilidad( matrizCuadrada ):\n",
        "  for i in range( len( matrizCuadrada ) ):\n",
        "    sumaFila = 0\n",
        "    for j in range( len( matrizCuadrada[ i ] ) ):\n",
        "      if matrizCuadrada[ i ][ j ] < 0:\n",
        "        return \"No es posible\"\n",
        "      sumaFila += matrizCuadrada[ i ][ j ]\n",
        "      if sumaFila > 1:\n",
        "        return \"No es matriz de probabilidad\"\n",
        "  return \"Es matriz de probabilidad\"\n",
        "\n",
        "matrizProbabilidad( [ [ 1, 0, 0 ], [ 0, 1, 0 ] ] )"
      ],
      "metadata": {
        "colab": {
          "base_uri": "https://localhost:8080/",
          "height": 35
        },
        "id": "lr9Xx9fSmNE-",
        "outputId": "809e53e6-9493-42b3-8f1e-45a059522125"
      },
      "execution_count": null,
      "outputs": [
        {
          "output_type": "execute_result",
          "data": {
            "text/plain": [
              "'Es matriz de probabilidad'"
            ],
            "application/vnd.google.colaboratory.intrinsic+json": {
              "type": "string"
            }
          },
          "metadata": {},
          "execution_count": 2
        }
      ]
    },
    {
      "cell_type": "markdown",
      "source": [
        "# Modulo Matplotlib"
      ],
      "metadata": {
        "id": "NgocmWymsJYw"
      }
    },
    {
      "cell_type": "code",
      "source": [
        "import matplotlib.pyplot as plt\n",
        "import numpy as np\n",
        " \n",
        "fig, ax = plt.subplots()\n",
        "\n",
        "ax.plot( [ -2, 0, 4, 1, -2 ], [ 1, 4, 2, 3, 1 ] ) #Une los puntos en el orden\n",
        "\n",
        "#Comando Figure\n",
        "\n",
        "fig = plt.figure()\n",
        "\n",
        "fig, aux = plt.subplots()\n",
        "\n",
        "fig, axs = plt.subplots( 4, 6 )\n",
        "\n",
        "#-o-\n",
        "\n",
        "#figsize = ( float, float ) = ancho, altura en pulgadas: default = [ 6.4, 4.8 ]\n",
        "\n",
        "A = np.array( [ [ 2, 3, 4], [ 5, 6, 7 ] ] )\n",
        "plt.figure( figsize = [ 5, 1 ], facecolor = 'red' )\n",
        "plt.plot( A[ 0, : ], A[ 1, : ] )\n",
        "\n",
        "#Ejemplito\n",
        "\n",
        "plt.figure( figsize = [ 4, 1.5 ], facecolor = \"green\" )\n",
        "plt.plot( A[ 0, : ], A[ 1, : ], label = \"Linea\", linestyle = \"dashed\", linewidth = 7.0, color = \"r\" )\n",
        "plt.xlabel( \"Eje X\", fontsize = 20 )\n",
        "plt.ylabel( \"Eje Y\", fontsize = 10 )\n",
        "plt.legend( title_fontsize = 20, loc = \"upper left\" )\n",
        "plt.title( \"Grafica\", fontsize = 20, loc = \"left\" )\n",
        "\n",
        "#Text( 0.0, 1.0, \"Grafica\" )\n",
        "#Grafica circulo\n",
        "\n",
        "a = np.linspace( 0, 2 * np.pi, 100 )\n",
        "x = np.cos( a )\n",
        "y = np.sin( a )\n",
        "\n",
        "plt.plot( x, y )"
      ],
      "metadata": {
        "id": "OsXrodlbsOXP"
      },
      "execution_count": null,
      "outputs": []
    },
    {
      "cell_type": "code",
      "source": [
        "import matplotlib.pyplot as plt\n",
        "import numpy as np\n",
        "\n",
        "a = np.linspace( 0, 2 * np.pi, 100 )\n",
        "x = np.cos( a )\n",
        "y = np.sin( a )\n",
        "\n",
        "plt.figure( figsize = [ 5, 5 ] )\n",
        "plt.grid()\n",
        "plt.plot( x, y )\n",
        "\n",
        "#plt.xlim( ( left, right ) )\n",
        "#plt.ylim( ( bottom, top ) )"
      ],
      "metadata": {
        "colab": {
          "base_uri": "https://localhost:8080/",
          "height": 337
        },
        "id": "tRWl-fuotinZ",
        "outputId": "c6d9b880-093d-4b72-9966-c34fd63b3d32"
      },
      "execution_count": null,
      "outputs": [
        {
          "output_type": "execute_result",
          "data": {
            "text/plain": [
              "[<matplotlib.lines.Line2D at 0x7f53d6727250>]"
            ]
          },
          "metadata": {},
          "execution_count": 22
        },
        {
          "output_type": "display_data",
          "data": {
            "text/plain": [
              "<Figure size 360x360 with 1 Axes>"
            ],
            "image/png": "[encoded data removed]"
          },
          "metadata": {
            "needs_background": "light"
          }
        }
      ]
    },
    {
      "cell_type": "code",
      "source": [
        "import matplotlib.pyplot as plt\n",
        "import numpy as np\n",
        "\n",
        "x = np.linspace( -1, 3, 10 )\n",
        "y = np.cos( x ) * np.exp( x )\n",
        "plt.figure( figsize =  [ 4, 3 ] )\n",
        "plt.plot( x, y, label = \"f( x ) = cos( x )exp( x )\", color = \"b\" )\n",
        "plt.xlabel( \"Eje X\" )\n",
        "plt.ylabel( \"Eje Y\" )\n",
        "plt.grid()\n",
        "plt.legend( title_fontsize = 20, loc = \"center left\" )\n",
        "plt.title( \"Grafica\", fontsize = 20, loc = \"center\" )"
      ],
      "metadata": {
        "colab": {
          "base_uri": "https://localhost:8080/",
          "height": 263
        },
        "id": "-lK9voai2Mwr",
        "outputId": "a9482977-3ff0-40dd-b647-00a0980b2277"
      },
      "execution_count": null,
      "outputs": [
        {
          "output_type": "execute_result",
          "data": {
            "text/plain": [
              "Text(0.5, 1.0, 'Grafica')"
            ]
          },
          "metadata": {},
          "execution_count": 24
        },
        {
          "output_type": "display_data",
          "data": {
            "text/plain": [
              "<Figure size 288x216 with 1 Axes>"
            ],
            "image/png": "[encoded data removed]"
          },
          "metadata": {
            "needs_background": "light"
          }
        }
      ]
    },
    {
      "cell_type": "code",
      "source": [
        "import matplotlib.pyplot as plt\n",
        "import numpy as np\n",
        "\n",
        "x = np.linspace( -5, 6, 100 )\n",
        "y = []\n",
        "for i in range( len( x ) ):\n",
        "  if  5 <= x[ i ] and x[ i ] < 3:\n",
        "    y.append( np.cos( x[ i ] ) )\n",
        "  else:\n",
        "    y.append( x[ i ] ** 2 )\n",
        "plt.figure( figsize =  [ 6, 6 ] )\n",
        "plt.plot( x, y, color = \"b\" )\n",
        "plt.xlabel( \"Eje X\" )\n",
        "plt.ylabel( \"Eje Y\" )\n",
        "plt.grid()\n",
        "plt.legend( title_fontsize = 20, loc = \"center left\" )\n",
        "plt.title( \"Grafica\", fontsize = 20, loc = \"center\" )"
      ],
      "metadata": {
        "colab": {
          "base_uri": "https://localhost:8080/",
          "height": 444
        },
        "id": "aVKc3khm4AcL",
        "outputId": "eaebf2a9-eb96-4144-fdc6-6938a2d9f32f"
      },
      "execution_count": null,
      "outputs": [
        {
          "output_type": "stream",
          "name": "stderr",
          "text": [
            "WARNING:matplotlib.legend:No handles with labels found to put in legend.\n"
          ]
        },
        {
          "output_type": "execute_result",
          "data": {
            "text/plain": [
              "Text(0.5, 1.0, 'Grafica')"
            ]
          },
          "metadata": {},
          "execution_count": 36
        },
        {
          "output_type": "display_data",
          "data": {
            "text/plain": [
              "<Figure size 432x432 with 1 Axes>"
            ],
            "image/png": "[encoded data removed]"
          },
          "metadata": {
            "needs_background": "light"
          }
        }
      ]
    },
    {
      "cell_type": "markdown",
      "source": [
        "#Mirar la clase que no vine :D"
      ],
      "metadata": {
        "id": "aVG_jndYrxQ7"
      }
    },
    {
      "cell_type": "code",
      "source": [],
      "metadata": {
        "id": "AuvaoqjXr1oT"
      },
      "execution_count": null,
      "outputs": []
    },
    {
      "cell_type": "markdown",
      "source": [
        "# Format"
      ],
      "metadata": {
        "id": "bFvABaJxr2Dq"
      }
    },
    {
      "cell_type": "code",
      "source": [
        "valor = 1 / 100000\n",
        "print( \"{:.3f}\".format( valor ) )\n",
        "print( \"{:.10f}\".format( valor ) )\n",
        "print( \"{:.20f}\".format( valor ) )\n",
        "print( \"{:.25f}\".format( valor ) )\n",
        "\n",
        "\n",
        "valor = 5 / 3\n",
        "print( \"%.3f\" % valor )\n",
        "print( \"%.10f\" % valor )\n",
        "print( \"%.20f\" % valor )\n",
        "print( \"%.25f\" % valor )"
      ],
      "metadata": {
        "colab": {
          "base_uri": "https://localhost:8080/"
        },
        "id": "PcuakN-ir3_W",
        "outputId": "143e13e3-6831-45ff-b9bc-f445aa03e815"
      },
      "execution_count": null,
      "outputs": [
        {
          "output_type": "stream",
          "name": "stdout",
          "text": [
            "0.000\n",
            "0.0000100000\n",
            "0.00001000000000000000\n",
            "0.0000100000000000000008180\n",
            "1.667\n",
            "1.6666666667\n",
            "1.66666666666666674068\n",
            "1.6666666666666667406815350\n"
          ]
        }
      ]
    },
    {
      "cell_type": "markdown",
      "source": [
        "# Algoritmo de Horner: Multiplicación anidada\n",
        "\n",
        "### Minimizar la cantidad de operacion en ese proceso\n",
        "\n",
        "## $p( x ) = a_0 + a_1x + a_2x^2 + ... + a_nx^n$\n",
        "\n",
        "## $p( x ) = a_0 + x( a_1 + x( a_2 ... + x( a_{ n-1 } + x( a_n ) ) ) )$\n",
        "\n",
        "### Ejemplo:\n",
        "\n",
        "### $p( x ) = x^5 + 3x^4 + 2x^3 - x + 3$\n",
        "### $p( x ) = 3 - x + ( 0 )x^2 + 2x^3 + 3x^4 + x^5$\n",
        "\n",
        "### Resultado:\n",
        "\n",
        "### $3 + x( -1 + x( 0 + x( 2 + x( 3 + x( 1 ) ) ) ) )$"
      ],
      "metadata": {
        "id": "Fbk9qNJzuN1S"
      }
    },
    {
      "cell_type": "code",
      "source": [
        "def multiPoli( L, x ):\n",
        "  resultado = L[ len( L ) - 1 ]\n",
        "  i = len( L ) - 1\n",
        "  while i >= 1:\n",
        "    i -= 1\n",
        "    resultado = L[ i ] + x * resultado\n",
        "  return resultado\n",
        "print( multiPoli( [ 3, -1, 0, 2, 3, 1 ], 2 ) )"
      ],
      "metadata": {
        "colab": {
          "base_uri": "https://localhost:8080/"
        },
        "id": "DGeH9N21uU1x",
        "outputId": "713649f4-252e-47a9-e1e1-bb2081ad80c7"
      },
      "execution_count": null,
      "outputs": [
        {
          "output_type": "stream",
          "name": "stdout",
          "text": [
            "97\n"
          ]
        }
      ]
    },
    {
      "cell_type": "markdown",
      "source": [
        "# Exactitud y Precision\n",
        "\n",
        "## Exactitud\n",
        "### se refiere a que tan cercano esta el valor calculado o medido del valor verdadero\n",
        "\n",
        "## Precision\n",
        "### se refiere a que tan cercanos se encuentran, unos de otros, diversos valores calculados o medidos\n"
      ],
      "metadata": {
        "id": "9nR7e5r84Nsx"
      }
    },
    {
      "cell_type": "markdown",
      "source": [
        "# Error relativo y error absoluto"
      ],
      "metadata": {
        "id": "tF9TGUy05efK"
      }
    },
    {
      "cell_type": "code",
      "source": [
        "import math\n",
        "import numpy as np\n",
        "\n",
        "def errores( p, pAprox ):\n",
        "  return abs( p - pAprox ), abs( p - pAprox ) / abs( p )\n",
        "errores( 0.3000 * ( 10 ** 1 ), 0.3100 * ( 10 ** 1 ) )\n",
        "errores( 0.3000 * ( 10 ** 4 ), 0.3100 * ( 10 ** 4 ) )\n",
        "\n",
        "#lambdita = lambda a, b : abs( a - b ), abs( a - b ) / abs( a )\n",
        "#lambdita( 0.3000 * ( 10 ** 1 ), 0.3100 * ( 10 ** 1 ) )\n",
        "\n",
        "def aproximacionExponencial( x, n ):\n",
        "  suma = 0\n",
        "  for i in range( n ):\n",
        "    suma += ( x ** i ) / ( math.factorial( i ) )\n",
        "  return suma\n",
        "\n",
        "errores( np.exp( 5 ), aproximacionExponencial( 5, 10 ) )"
      ],
      "metadata": {
        "colab": {
          "base_uri": "https://localhost:8080/"
        },
        "id": "jNOCmdZ05hoQ",
        "outputId": "a743887d-4a4c-4379-d5f3-3560de280322"
      },
      "execution_count": null,
      "outputs": [
        {
          "output_type": "execute_result",
          "data": {
            "text/plain": [
              "(4.723702532911716, 0.031828057306204915)"
            ]
          },
          "metadata": {},
          "execution_count": 39
        }
      ]
    },
    {
      "cell_type": "markdown",
      "source": [
        "# Metodos de solución de ecuaciones\n",
        "\n",
        "## Biseccion: \n",
        "\n",
        "Metodo cerrado para la aproximacion de soluciones de la ecuacion no lineal $f( x ) = 0$. En este caso se usa el teorema del valor intermedio y el argumento de dividir un intevalo en 2 partes iguales para buscar la raiz.\n",
        "\n",
        "Teorema del valor intermedio:\n",
        "\n",
        "Si $f( x )$ es una funcion continua en el intervalor $[ a, b ]$ y $f( a )$ y $f( b )$ tiene signos contrarios entonces debe existir un numero c en el intervalo $(a , b )$ tal que $f( c ) = 0$"
      ],
      "metadata": {
        "id": "VKywmc7u7yBt"
      }
    },
    {
      "cell_type": "code",
      "source": [
        "import matplotlib.pyplot as plt\n",
        "import numpy as np\n",
        "\n",
        "x = np.linspace( -3, 3, 100 )\n",
        "a = -13 - 20 * x  + 19 * x ** 2 - 3 * x ** 3\n",
        "plt.plot( x, a )\n",
        "plt.grid()\n",
        "\n",
        "def f( x ):\n",
        "  return -13 - 20 * x  + 19 * x ** 2 - 3 * x ** 3\n",
        "\n",
        "def biseccion( intervalo1, intervalo2 ):\n",
        "  if f( intervalo1 ) * f( intervalo2 ) > 0:\n",
        "    return \"Paila\"\n",
        "  eps = 0.000001\n",
        "  veces = 0\n",
        "  low = intervalo1\n",
        "  high = intervalo2\n",
        "  while high - low > eps and veces < 1000:\n",
        "    mid = ( low + high ) / 2\n",
        "    if f( mid ) * f( low ) > 0:\n",
        "      low = mid\n",
        "    elif f( mid ) * f( high ) > 0:\n",
        "      high = mid\n",
        "    else:\n",
        "      return mid, veces\n",
        "    veces += 1\n",
        "  return mid, veces\n",
        "\n",
        "biseccion( -1, 0 )\n",
        "biseccion( 1, 3 )\n"
      ],
      "metadata": {
        "colab": {
          "base_uri": "https://localhost:8080/",
          "height": 282
        },
        "id": "ECoOVVokDhQ4",
        "outputId": "2a839f6c-c475-4ab5-fc71-17646abad937"
      },
      "execution_count": null,
      "outputs": [
        {
          "output_type": "execute_result",
          "data": {
            "text/plain": [
              "(2.049893379211426, 21)"
            ]
          },
          "metadata": {},
          "execution_count": 77
        },
        {
          "output_type": "display_data",
          "data": {
            "text/plain": [
              "<Figure size 432x288 with 1 Axes>"
            ],
            "image/png": "[encoded data removed]"
          },
          "metadata": {
            "needs_background": "light"
          }
        }
      ]
    },
    {
      "cell_type": "markdown",
      "source": [
        "# Metodo Newton - Raphson\n",
        "\n",
        "$X_r \\rightarrow F( X_r ) = 0$\n",
        "\n",
        "Aproximar el valor de $X_r$\n",
        "\n",
        "$X_{ n + 1 } = X_n - \\frac{ F( X_n ) }{ F'( X_n ) }_{\\rightarrow F'( X_n ) \\neq 0 }$\n",
        "\n",
        "$X_0$ - Condicion inicial\n",
        "\n",
        "$X_{ 1 } = X_0 - \\frac{ F( X_0 ) }{ F'( X_0 ) } \\thickapprox X_r \\rightarrow 1° Iteracion$\n",
        "\n",
        "$X_{ 2 } = X_1 - \\frac{ F( X_1 ) }{ F'( X_1 ) } \\thickapprox X_r \\rightarrow 2° Iteracion$\n",
        "\n",
        "$X_{ 3 } = X_2 - \\frac{ F( X_2 ) }{ F'( X_2 ) } \\thickapprox X_r \\rightarrow 3° Iteracion$\n",
        "\n",
        "\n",
        "$X_{ n + 1 }$ es el punto de corte con el eje x de la recta tangente a la grafica $F( x )$ en el punto $( X_n, F( X_n ) )$\n",
        "\n",
        "Como condicion inicial se debe evitar los valores cercanos a los maximos minimos o puntos de inflexion\n",
        "\n",
        "Criterios de Parada:\n",
        "\n",
        "* n - numero maximo de iteracion\n",
        "* Tol - Tolerancia  - $| X_{ n + 1 } + X_n | \\leqq$ Tol\n",
        "* $F( X_n ) = 0$ \n",
        "\n",
        "$♣ ♠ \\blacklozenge ♡$"
      ],
      "metadata": {
        "id": "newztVQGuSbt"
      }
    },
    {
      "cell_type": "code",
      "source": [
        "import numpy as np\n",
        "\n",
        "def f( x ):\n",
        "  #return -13 - 20 * x  + 19 * x ** 2 - 3 * x ** 3, - 20 + 38 * x - 9 * x ** 2\n",
        "  #Normal, Derivada\n",
        "  return x - np.cos( x ), 1 + np.sin( x ) \n",
        "\n",
        "x0 = 2.5\n",
        "x1 = x0 - f( x0 )[ 0 ] / f( x0 )[ 1 ]\n",
        "x2 = x1 - f( x1 )[ 0 ] / f( x1 )[ 1 ]\n",
        "print( x1 )\n",
        "\n",
        "def newton( x0 ):\n",
        "  xn = x0 - f( x0 )[ 0 ] / f( x0 )[ 1 ]\n",
        "  veces = 0\n",
        "  while abs( x0 - xn ) > 10 ** ( - 8 ):\n",
        "    x0 = xn\n",
        "    xn = x0 - f( x0 )[ 0 ] / f( x0 )[ 1 ]\n",
        "    veces += 1\n",
        "  return xn, veces\n",
        "  \n",
        "#print( f\"Mia: { newton( 2.5 ) }\" )\n",
        "print( f\"Mia: { newton( 2 ) }\" )\n",
        "\n",
        "VECES = 50\n",
        "\n",
        "def newtonProfe( f, x, n, tol ):\n",
        "  if f( x )[ 0 ] == 0:\n",
        "    return \"X es la raiz\"\n",
        "  elif abs( f( x )[ 1 ] ) <= tol:\n",
        "    return \"No se puede aplicar el metodo\"\n",
        "  else:\n",
        "    xn = x - f( x )[ 0 ] / f( x )[ 1 ]\n",
        "    if n <= 1 or abs( xn - x ) <= tol:\n",
        "      return xn, VECES - n \n",
        "    else:\n",
        "      return newtonProfe( f, xn, n - 1, tol )\n",
        "\n",
        "print( f\"Profe: { newtonProfe( f, 2.5, VECES, 10 ** ( - 8 ) ) }\" )"
      ],
      "metadata": {
        "colab": {
          "base_uri": "https://localhost:8080/"
        },
        "id": "PSFMtOD3zjMk",
        "outputId": "5af9c643-466c-4001-993c-8745a06fdf63"
      },
      "execution_count": null,
      "outputs": [
        {
          "output_type": "stream",
          "name": "stdout",
          "text": [
            "0.43481317286424703\n",
            "Mia: (0.7390851332151607, 3)\n",
            "Profe: (0.7390851332151607, 4)\n"
          ]
        }
      ]
    },
    {
      "cell_type": "markdown",
      "source": [
        "# Metodo de la Secante\n",
        "\n",
        "Se intenta dejar la derivada en terminos unicamente de la funcion, para ello se utiliza el limite y de esta forma se reemplaza dicho limite en la ecuacion, obteniendo unicamente la formula en terminos de la funcion, no de su derivada\n",
        "\n",
        "$M_{ sec } = \\frac{ F( a ) - F( b ) }{ a - b }$\n",
        "\n",
        "$X_{ i + 1 } = X_i - \\frac{ F( X_i ) ( X_i - X_{ i + 1 } ) }{ F( X_i ) - F( X_{ i - 1 } ) }$\n",
        "\n",
        "Nota: Necesitamos 2 condiciones iniciales $X_0, X_1$\n",
        "\n",
        "* Debo excluir valores $X_i$ y $X_{ i - 1 }$ tales que:\n",
        "\n",
        "$F( X_i ) - F( X_{ i - 1 } ) = 0$\n",
        "\n",
        "$F( X_i ) = F( X_{ i - 1 } )$\n",
        "\n",
        "* $X_0$ y $X_1$ deben ser valores cercanos a la raiz $X_r$:\n",
        "\n",
        "$X_2 = X_1 = \\frac{ F( X_1 ) ( X_1 - X_{ 0 } ) }{ F( X_1 ) - F( X_{ 0 } ) } \\left\\{ \\begin{array}{lcc}\n",
        "             F( X_1 ) \\neq F( X_0 ) \\\\\n",
        "             \\\\ Condi. Iniciales X_0, X_1 \\\\\n",
        "             \\end{array}\n",
        "\\right.$\n",
        "\n",
        "$X_3 = X_2 = \\frac{ F( X_2 ) ( X_2 - X_{ 1 } ) }{ F( X_2 ) - F( X_{ 1 } ) } \\left\\{ \\begin{array}{lcc}\n",
        "             F( X_2 ) \\neq F( X_1 ) \\\\\n",
        "             \\\\ Condi. Iniciales X_1, X_2  \\\\\n",
        "             \\end{array}\n",
        "\\right.$"
      ],
      "metadata": {
        "id": "1cKA66ZrBXsb"
      }
    },
    {
      "cell_type": "markdown",
      "source": [
        "#Ejemplo:\n",
        "\n",
        "$X = cos( x )$\n",
        "\n",
        "$\\frac{ X - cos( X ) = 0 }{ F( X ) }$"
      ],
      "metadata": {
        "id": "rKcguNH0D2-Z"
      }
    },
    {
      "cell_type": "code",
      "source": [
        "import numpy as np\n",
        "import matplotlib.pyplot as plt\n",
        "\n",
        "def f( x ):\n",
        "  return x - np.cos( x )\n",
        "\n",
        "def secante( x0, x1 ):\n",
        "  if x0 != 0 and x1 != 0:\n",
        "    xn = x1 - ( f( x1 ) * ( x1 - x0 ) ) / ( f( x1 ) - f( x0 ) )\n",
        "    veces = 0\n",
        "    while abs( x0 - xn ) > 10 ** ( - 8 ):\n",
        "      x0 = x1\n",
        "      x1 = xn\n",
        "      xn = x1 - ( f( x1 ) * ( x1 - x0 ) ) / ( f( x1 ) - f( x0 ) )\n",
        "      veces += 1\n",
        "    return xn, veces\n",
        "  return \"Paila\"\n",
        "\n",
        "a = np.linspace( 0, 5, 100 )\n",
        "plt.plot( a, f( a ) )\n",
        "plt.grid()\n",
        "x0 = 2\n",
        "x1 = 3\n",
        "x2 = x1 - ( f( x1 ) * ( x1 - x0 ) ) / ( f( x1 ) - f( x0 ) )\n",
        "x3 = x2 - ( f( x2 ) * ( x2 - x1 ) ) / ( f( x2 ) - f( x1 ) )\n",
        "print( x2, x3 )\n",
        "print( secante( 2, 3 ) )"
      ],
      "metadata": {
        "colab": {
          "base_uri": "https://localhost:8080/",
          "height": 304
        },
        "id": "WzeXEeSED5Cp",
        "outputId": "6f77319e-d472-4b4a-864e-6cd8fd2bfc0c"
      },
      "execution_count": null,
      "outputs": [
        {
          "output_type": "stream",
          "name": "stdout",
          "text": [
            "0.4648133563075598 0.7109792882129323\n",
            "(0.7390851332151607, 6)\n"
          ]
        },
        {
          "output_type": "display_data",
          "data": {
            "text/plain": [
              "<Figure size 432x288 with 1 Axes>"
            ],
            "image/png": "[encoded data removed]"
          },
          "metadata": {
            "needs_background": "light"
          }
        }
      ]
    },
    {
      "cell_type": "markdown",
      "source": [
        "# Metodo Falsa posicion\n",
        "\n",
        "Se debe exigir que las condiciones iniciales $P_0$ y $P_1$ satisfagan $F( P_0 ) F( P_1 ) < 0$. De esta manera se halla $P_2$ usando el metodo de la secante. Para hallar $P_3$ tomamos los siguientes casos:\n",
        "\n",
        "* Si $F( P_1 ) F( P_2 ) < 0$ entonces usamos el metodo de la secante para hallar $P_3$ con los puntos $P_0$ y $P_1$.\n",
        "\n",
        "* Si $F( P_1 ) F( P_2 ) > 0$ entonces usamos el metodo de la secante para hallar $P_3$ con los puntos $P_0$ y $P_2$ ( Esto significa que la raiz este entre $P_0$ y $P_1$ )"
      ],
      "metadata": {
        "id": "DAZ5fF_AMNi9"
      }
    },
    {
      "cell_type": "code",
      "source": [
        "import numpy as np\n",
        "import matplotlib.pyplot as plt\n",
        "\n",
        "def f( x ):\n",
        "  return x - np.cos( x )\n",
        "\n",
        "\n",
        "def falsaPosicion( x0, x1 ):\n",
        "    xn = x1 - ( f( x1 ) * ( x1 - x0 ) ) / ( f( x1 ) - f( x0 ) )\n",
        "    veces = 0\n",
        "    while abs( x0 - xn ) > 10 ** ( - 8 ):\n",
        "      if f( x1 ) * f( x2 ) < 0:     \n",
        "        x0 = x1\n",
        "        x1 = xn\n",
        "        xn = x1 - ( f( x1 ) * ( x1 - x0 ) ) / ( f( x1 ) - f( x0 ) )\n",
        "      else:\n",
        "        x1 = xn\n",
        "        xn = x1 - ( f( x1 ) * ( x1 - x0 ) ) / ( f( x1 ) - f( x0 ) )       \n",
        "      veces += 1\n",
        "    return xn, veces\n",
        "\n",
        "print( falsaPosicion( 0, 1 ) )"
      ],
      "metadata": {
        "colab": {
          "base_uri": "https://localhost:8080/"
        },
        "id": "yKtgUavNMtcI",
        "outputId": "e1015b57-fb30-4ca4-b856-55df266644dd"
      },
      "execution_count": null,
      "outputs": [
        {
          "output_type": "stream",
          "name": "stdout",
          "text": [
            "(0.7390851332151607, 6)\n"
          ]
        }
      ]
    },
    {
      "cell_type": "markdown",
      "source": [
        "# fsolve()\n",
        "Para resolver raices de un polinomio"
      ],
      "metadata": {
        "id": "d06YQDZAxYnS"
      }
    },
    {
      "cell_type": "code",
      "source": [
        "from scipy.optimize import fsolve\n",
        "import matplotlib.pyplot as plt\n",
        "import numpy as np\n",
        "\n",
        "def f( x ):\n",
        "  return x ** 3 - 100 * x ** 2 + 100\n",
        "\n",
        "x = np.linspace( -5, 5, 100 )\n",
        "y = [ f( x1 ) for x1 in x ]\n",
        "plt.figure()\n",
        "plt.plot( x, y, 'r' )\n",
        "plt.grid()\n",
        "root = fsolve( f, -2 )\n",
        "print( root )"
      ],
      "metadata": {
        "colab": {
          "base_uri": "https://localhost:8080/",
          "height": 282
        },
        "id": "MYdF8X91xKPT",
        "outputId": "0a800366-73de-4ba0-856d-afa12a1951be"
      },
      "execution_count": null,
      "outputs": [
        {
          "output_type": "stream",
          "name": "stdout",
          "text": [
            "[-0.99506152]\n"
          ]
        },
        {
          "output_type": "display_data",
          "data": {
            "text/plain": [
              "<Figure size 432x288 with 1 Axes>"
            ],
            "image/png": "[encoded data removed]"
          },
          "metadata": {
            "needs_background": "light"
          }
        }
      ]
    },
    {
      "cell_type": "markdown",
      "source": [
        "# Aplicacion\n",
        "\n",
        "Un canal de longitud $L$ tiene una seccion transversal en forma de semicirculo con radio $r$. Cuando se llena de agua a una distancia $h$ de la parte superior, el volumen $V$ del agua es:\n",
        "\n",
        "$V = L( 0.5 π r^2 - r^2 arcsen( \\frac{ h }{ r } ) - h( r^2 - h^2 )^{ 1/2 } )$\n",
        "\n",
        "Suponga que $L = 10 ft, r = 1 ft, V = 12.4 ft^3$ Encuentre la profundidad del agua en el canal con una tolerancia de $0.01 ft$\n",
        "\n",
        "$12.4 = 10( \\frac{ 1 }{ 2 } π ( 1 )^2 - ( 1 )^2 arcsen( \\frac{ h }{ 1 } ) - h( ( 1 )^2 - h^2 )^{ 1/2 } )$\n",
        "\n",
        "$0 = 10( \\frac{ π }{ 2 } - arcsen( h ) - h( 1 - h^2 )^{ 1/2 } ) - 12.4$\n",
        "\n",
        "Tener encuenta los intervalos y las raice, por ejemplo en esta aplicacion las mas problematicas serian:\n",
        "\n",
        "$arcsen( x )$\n",
        "\n",
        "$(1 - x^2 )^{ 1 / 2 }$\n",
        "\n",
        "INTERVALOS ( 0, 1 )"
      ],
      "metadata": {
        "id": "1B6orqGvylDH"
      }
    },
    {
      "cell_type": "markdown",
      "source": [
        "# Derivadas con Sympy\n",
        "Para calcular la primera, segunda o tercera derivada de una función matemática con el lenguaje python, use la función diff() del modulo sympy\n",
        "\n",
        "diff(y,x)\n",
        "\n",
        "o alternativamente\n",
        "\n",
        "y.diff(x)\n",
        "\n",
        "La función diff () tiene al menos dos parámetros \n",
        "* El primer argumento y es la función a derivar. \n",
        "* El segundo argumento x es la variable derivada. La función devuelve la derivada de la función.\n",
        "\n",
        "La función devuelve la derivada de la función\n",
        "\n",
        "$F'( x ) \\frac{ dy }{  dx }$\n",
        "\n",
        "Nota. Es una función del módulo sympy. Por lo tanto, debe instalar e importar la biblioteca sympy en Python. Además, es necesario definir la variable x como un símbolo..\n",
        "\n",
        "Ejemplo 1 ( primera función derivada) Este script calcula la función derivada de $F( x )= x^2 + 1$\n",
        "```\n",
        "import sympy as sp\n",
        "\n",
        "x = sp.Symbol( 'x' )\n",
        "y = x ** 2 + 1 \n",
        "sp.diff( y, x )\n",
        "```\n",
        "El resultado es el siguiente\n",
        "$2x$"
      ],
      "metadata": {
        "id": "b5PfSIBzCRfU"
      }
    },
    {
      "cell_type": "code",
      "source": [
        "import sympy as sp\n",
        "\n",
        "x = sp.Symbol( 'x' )\n",
        "y = x ** 2 + 1\n",
        "sp.diff( y, x )"
      ],
      "metadata": {
        "colab": {
          "base_uri": "https://localhost:8080/",
          "height": 38
        },
        "id": "tMrhG7uACYMz",
        "outputId": "ba30ab4f-319c-4030-a2de-74c9b7529d54"
      },
      "execution_count": null,
      "outputs": [
        {
          "output_type": "execute_result",
          "data": {
            "text/plain": [
              "2*x"
            ],
            "text/latex": "$\\displaystyle 2 x$"
          },
          "metadata": {},
          "execution_count": 3
        }
      ]
    },
    {
      "cell_type": "code",
      "source": [
        "import matplotlib.pyplot as plt\n",
        "import numpy as np\n",
        "\n",
        "def f( h ):\n",
        "  return 10 * ( np.pi / 2 - np.arcsin( h ) - h * np.sqrt( 1 - h ** 2 ) ) - 12.4\n",
        "\n",
        "def biseccion( intervalo1, intervalo2 ):\n",
        "  if f( intervalo1 ) * f( intervalo2 ) > 0:\n",
        "    return \"Paila\"\n",
        "  eps = 0.01\n",
        "  veces = 0\n",
        "  low = intervalo1\n",
        "  high = intervalo2\n",
        "  while high - low > eps and veces < 1000:\n",
        "    mid = ( low + high ) / 2\n",
        "    if f( mid ) * f( low ) > 0:\n",
        "      low = mid\n",
        "    elif f( mid ) * f( high ) > 0:\n",
        "      high = mid\n",
        "    else:\n",
        "      return mid, veces\n",
        "    veces += 1\n",
        "  return mid, veces\n",
        "\n",
        "x = np.linspace( 0, 1, 100 )\n",
        "plt.plot( x, f( x ), 'b' )\n",
        "plt.grid()\n",
        "print( 1 - biseccion( 0.1, 0.4 )[ 0 ] )\n",
        "print( 1 - fsolve( f, 0.2 ) )"
      ],
      "metadata": {
        "colab": {
          "base_uri": "https://localhost:8080/",
          "height": 303
        },
        "id": "lfoy3Pd942IB",
        "outputId": "8fb5bc34-bf31-494a-c5f1-7a8925007a70"
      },
      "execution_count": null,
      "outputs": [
        {
          "output_type": "stream",
          "name": "stdout",
          "text": [
            "0.834375\n",
            "[0.83383397]\n"
          ]
        },
        {
          "output_type": "display_data",
          "data": {
            "text/plain": [
              "<Figure size 432x288 with 1 Axes>"
            ],
            "image/png": "[encoded data removed]"
          },
          "metadata": {
            "needs_background": "light"
          }
        }
      ]
    },
    {
      "cell_type": "markdown",
      "source": [
        "# Actividad 5 % primer corte Computacion cientıfica\n"
      ],
      "metadata": {
        "id": "jmbnQIERAxqu"
      }
    },
    {
      "cell_type": "code",
      "source": [
        " import numpy as np\n",
        "\n",
        "def f( x, y ):\n",
        "  return np.exp( 1 ) ** ( x - y ) - np.sin( x + y )\n",
        "\n",
        "def fdx( x, y ):\n",
        "  return np.exp( 1 ) ** ( x - y ) - np.cos( x + y )\n",
        "\n",
        "def fdy( x, y ):\n",
        "  return - np.exp( 1 ) ** ( x - y ) - np.cos( x + y )\n",
        "\n",
        "def g( x, y ):\n",
        "  return ( x ** 2 ) * ( y ** 2 ) - np.cos( x + 6 )\n",
        "\n",
        "def gdx( x, y ):\n",
        "  return 2 * x * ( y ** 2 ) + np.sin( x + 6 )\n",
        "\n",
        "def gdy( x, y ):\n",
        "  return 2 * ( x ** 2 ) * y\n",
        "\n",
        "def newton( xn, yn ):\n",
        "  xi = xn - ( ( ( f( xn, yn ) * ( gdy( xn, yn ) ) ) - ( g( xn, yn ) * ( fdy( xn, yn ) ) ) ) / ( ( fdx( xn, yn ) * gdy( xn, yn ) ) - ( fdy( xn, yn ) * gdx( xn, yn ) ) ) )\n",
        "  yi = yn - ( ( ( g( xn, yn ) * ( fdx( xn, yn ) ) ) - ( f( xn, yn ) * ( gdx( xn, yn ) ) ) ) / ( ( fdx( xn, yn ) * gdy( xn, yn ) ) - ( fdy( xn, yn ) * gdx( xn, yn ) ) ) )\n",
        "  veces = 0\n",
        "  while veces < 10 and f( xi, yi ) != 0 and g( xi, yi ) != 0:\n",
        "    xn = xi\n",
        "    yn = yi\n",
        "    xi = xn - ( ( ( f( xn, yn ) * ( gdy( xn, yn ) ) ) - ( g( xn, yn ) * ( fdy( xn, yn ) ) ) ) / ( ( fdx( xn, yn ) * gdy( xn, yn ) ) - ( fdy( xn, yn ) * gdx( xn, yn ) ) ) )\n",
        "    yi = yn - ( ( ( g( xn, yn ) * ( fdx( xn, yn ) ) ) - ( f( xn, yn ) * ( gdx( xn, yn ) ) ) ) / ( ( fdx( xn, yn ) * gdy( xn, yn ) ) - ( fdy( xn, yn ) * gdx( xn, yn ) ) ) )\n",
        "    veces += 1\n",
        "  return xi, yi\n",
        "\n",
        "newton( 1, 1 )"
      ],
      "metadata": {
        "id": "vBV6aCANEOXR",
        "colab": {
          "base_uri": "https://localhost:8080/"
        },
        "outputId": "a8877882-c8d6-43a0-9ad2-da3a6ac2d851"
      },
      "execution_count": null,
      "outputs": [
        {
          "output_type": "execute_result",
          "data": {
            "text/plain": [
              "(0.920549109457338, 0.9738480190834867)"
            ]
          },
          "metadata": {},
          "execution_count": 4
        }
      ]
    },
    {
      "cell_type": "markdown",
      "source": [
        "# Examen 1"
      ],
      "metadata": {
        "id": "toz-Yy9sENqB"
      }
    },
    {
      "cell_type": "code",
      "source": [
        "import math\n",
        "import matplotlib.pyplot as plt\n",
        "import numpy as np\n",
        "\n",
        "#PUNTO 1\n",
        "\n",
        "def f( x ):\n",
        "  return np.cos( x ) - 0.77\n",
        "\n",
        "def secante( x0, x1 ):\n",
        "  if x0 != 0 and x1 != 0:\n",
        "    xn = x1 - ( f( x1 ) * ( x1 - x0 ) ) / ( f( x1 ) - f( x0 ) )\n",
        "    veces = 0\n",
        "    while abs( x0 - xn ) > 10 ** ( - 8 ):\n",
        "      x0 = x1\n",
        "      x1 = xn\n",
        "      #print(x0,x1)\n",
        "      xn = x1 - ( f( x1 ) * ( x1 - x0 ) ) / ( f( x1 ) - f( x0 ) )\n",
        "      veces += 1\n",
        "    return xn, veces\n",
        "  return \"Paila\"\n",
        "\n",
        "math.log( 2 ) #0.6931471805599453\n",
        "print( \"a\", secante ( 0.4, 0.8 ) )\n",
        "\n",
        "def errores( p, pAprox ):\n",
        "  return abs( p - pAprox ), abs( p - pAprox ) / abs( p )\n",
        "\n",
        "errores( math.log( 2 ), secante ( 0.4, 0.8 )[ 0 ] )\n",
        "\n",
        "#PUNTO 2\n",
        "\n",
        "def f( x ):\n",
        "  return np.cos( x ) + 1 - 2,71828 ** - x ** 2\n",
        "\n",
        "\"\"\"def biseccion( intervalo1, intervalo2 ):\n",
        "  if f( intervalo1 ) * f( intervalo2 ) > 0:\n",
        "    return \"Paila\"\n",
        "  eps = 0.000001\n",
        "  veces = 0\n",
        "  low = intervalo1\n",
        "  high = intervalo2\n",
        "  while high - low > eps and veces < 1000:\n",
        "    mid = ( low + high ) / 2\n",
        "    if f( mid ) * f( low ) > 0:\n",
        "      low = mid\n",
        "    elif f( mid ) * f( high ) > 0:\n",
        "      high = mid\n",
        "    else:\n",
        "      return mid, veces\n",
        "    veces += 1\n",
        "  return mid, veces\n",
        "\n",
        "biseccion( 3, 3.5 )\"\"\"\n",
        "\n",
        "#PUNTO 3\n",
        "\n",
        "def errores( p, pAprox ):\n",
        "  return \"Error Relativo: \" + str( abs( p - pAprox ) ), \"Error Absoluto: \" + str( abs( p - pAprox ) / abs( p ) )\n",
        "\n",
        "def sen( u ):\n",
        "  return u * ( ( 1 - ( 29593 / 207636 ) * ( u ** 2 ) + ( 34911 / 7613320 ) * ( u ** 4 ) - ( 479249 / 11511339840 ) * ( u ** 6 ) ) /  ( 1 + ( 1671 / 69212 ) * ( u ** 2 ) + ( 97 / 351384 ) * ( u ** 4 ) + ( 2623 / 1644477120 ) * ( u ** 6 ) ) ) \n",
        "\n",
        "def seno( x ):\n",
        "  if -np.pi / 2 > x or x > np.pi / 2:\n",
        "    return \"Se sale del intervalo\"\n",
        "  if abs( x ) < 10 ** -8:\n",
        "    return x\n",
        "  elif abs( x ) > np.pi / 6:\n",
        "    u = x / 3\n",
        "    return ( 3 - 4 * sen( u ** 2 ) ) * sen( u )\n",
        "  elif np.pi / 6 <= x or x <= -10 ** -8 or 10 ** -8 <= x or x <= np.pi / 6:\n",
        "    u = x\n",
        "    return sen( u )\n",
        "\n",
        "print( seno( 1.5 ) )\n",
        "print( np.sin( 1.5 ) )\n",
        "print( errores( seno( 1.5 ), np.sin( 1.5 ) ) )\n",
        "\n",
        "#PUNTO 4\n",
        "\n",
        "def f( y ):\n",
        "  return 1 - ( ( ( 20 ** 2 ) / ( 9.81 * ( ( 3 * y ) +  (( y ** 2 / 2 ) ) ) ) * 3 + y ) )\n",
        "\n",
        "x = np.linspace( -5, 5, 100 )\n",
        "plt.plot( x, f( x ) )\n",
        "plt.grid()\n",
        "\n"
      ],
      "metadata": {
        "colab": {
          "base_uri": "https://localhost:8080/",
          "height": 334
        },
        "id": "-IHOcmYBEQh9",
        "outputId": "7e5a063e-2691-47a9-94fe-f06efe3a12f9"
      },
      "execution_count": null,
      "outputs": [
        {
          "output_type": "stream",
          "name": "stdout",
          "text": [
            "a (0.6919551751263169, 6)\n",
            "0.963829510138961\n",
            "0.9974949866040544\n",
            "('Error Relativo: 0.033665476465093436', 'Error Absoluto: 0.034928870833431616')\n"
          ]
        },
        {
          "output_type": "display_data",
          "data": {
            "text/plain": [
              "<Figure size 432x288 with 1 Axes>"
            ],
            "image/png": "[encoded data removed]"
          },
          "metadata": {
            "needs_background": "light"
          }
        }
      ]
    },
    {
      "cell_type": "markdown",
      "source": [
        "# Corte 2"
      ],
      "metadata": {
        "id": "oUkClbZZ6Aap"
      }
    },
    {
      "cell_type": "markdown",
      "source": [
        "# Metodos de soluciones de sistemas de ecuaciones\n",
        "\n",
        "* Gaussiana\n",
        "* Gauss-Jordan\n",
        "* Inverso ( Crames )\n",
        "\n",
        "## Solucion de un sistema triangular superior\n",
        "\n",
        "$x_i = \\frac{ b_i ∑_{ i + 1 } ^{ n } a_{ i, j } x_j }{ a_{ i, i } }$"
      ],
      "metadata": {
        "id": "gVcdcfDU5YDo"
      }
    },
    {
      "cell_type": "code",
      "source": [
        "import numpy as np\n",
        "\n",
        "def verificarTriangularSuperior( A ):\n",
        "  if len( A ) != len( A[ 0 ] ):\n",
        "    return False\n",
        "  n, m = np.shape( A )\n",
        "  for j in range( 0, n ):\n",
        "    for i in range( j + 1, n ):\n",
        "      if A[ i, j ] != 0:\n",
        "        return False #\"Matriz MALA -> Paila Rey\"\n",
        "  return True\n",
        "\n",
        "def sustAtrasSuperior( A, b ):\n",
        "  if verificarTriangularSuperior( A ):\n",
        "    n = len( A )\n",
        "    x = np.zeros( ( n, 1 ) )\n",
        "    for i in range( n - 1, -1, -1 ):\n",
        "      suma = 0\n",
        "      for j in range( i, n ):\n",
        "        suma += A[ i, j ] * x[ j, 0 ]\n",
        "      x[ i, 0 ] = ( b[ i, 0 ] - suma ) / A[ i, i ]\n",
        "    return x\n",
        "  return False\n",
        "\n",
        "\n",
        "A = np.array( [ [ 1, 2, 3 ], [ 0, 1, 2 ], [ 0, 0, 1 ] ] )\n",
        "verificarTriangularSuperior( A )\n",
        "A = np.array( [ [ 1, 2 ], [ 0, 3 ] ] )\n",
        "b = np.array( [ [ 1 ], [ 2 ] ] )\n",
        "sustAtrasSuperior( A, b )"
      ],
      "metadata": {
        "colab": {
          "base_uri": "https://localhost:8080/"
        },
        "id": "tTF0W9BB_txs",
        "outputId": "d43c5a24-c4eb-40ed-aa7e-b59655275f87"
      },
      "execution_count": null,
      "outputs": [
        {
          "output_type": "execute_result",
          "data": {
            "text/plain": [
              "array([[-0.33333333],\n",
              "       [ 0.66666667]])"
            ]
          },
          "metadata": {},
          "execution_count": 7
        }
      ]
    },
    {
      "cell_type": "markdown",
      "source": [
        "## Solucion de un sistema triangular inferior"
      ],
      "metadata": {
        "id": "n1c-F9Ao9vso"
      }
    },
    {
      "cell_type": "code",
      "source": [
        "import numpy as np\n",
        "\n",
        "def verificarTriangularInferior( A ): #valida si es una matriz valida para aplicar el sistema traiangular\n",
        "  for i in range( len( A ) ):\n",
        "    for j in range( len( A[ i ] ) ):\n",
        "      if i < j and A[ i ][ j ] != 0:\n",
        "        return False\n",
        "  return True\n",
        "\n",
        "def sustAtrasInferior( A, b ): #aplica la aproximacion con el sistema triangular\n",
        "  if verificarTriangularInferior( A ):\n",
        "    [ n, m ] = np.shape( A )\n",
        "    x = np.zeros( ( n, 1 ) )\n",
        "    for i in range( n ):\n",
        "      suma = 0\n",
        "      for j in range( i ):\n",
        "        suma += A[ i, j ] * x[ j, 0 ]\n",
        "      x[ i, 0 ] = ( b[ i, 0 ] - suma ) / A[ i, i ]\n",
        "    return x\n",
        "  return \"Cambie la matriz inferior\"\n",
        "\n",
        "AN = np.array([[1, 0, 0], [3, 1, 0], [2, 5/14, 1]])\n",
        "bN = np.array([[3], [14], [11]])\n",
        "# SistemaTriangularInf(AN,bN)"
      ],
      "metadata": {
        "id": "di7KN4h-9y-y"
      },
      "execution_count": null,
      "outputs": []
    },
    {
      "cell_type": "markdown",
      "source": [
        "# Factorizacion LU"
      ],
      "metadata": {
        "id": "HmbsP-6N4v7_"
      }
    },
    {
      "cell_type": "code",
      "source": [
        "#No da, ver TODO JUNTO\n",
        "import numpy as np\n",
        "\n",
        "def fact_lu( A ):\n",
        "  [ n, n ] = np.shape( A )\n",
        "  L = np.eye( n )\n",
        "  for j in range( 0, n - 1, 1 ):\n",
        "    for i in range( j + 1, n, 1 ):\n",
        "      L[ i, j ] = ( A[ i, j ] / A[ j, j ] )\n",
        "      A[ i, : ] = A[ i, : ] - ( ( A[ i, j ] / A[ j, j ] ) * A[ j, : ] )\n",
        "  return A, L\n",
        "\n",
        "#Forma general para resolver un sistema de ecuaciones\n",
        "\n",
        "def solu_sist_LU( A, b ):\n",
        "  [ L, U ] = fact_lu( A )\n",
        "  d = sustAtrasInferior( L, b )\n",
        "  x = sustAtrasSuperior( U, d )\n",
        "  return x\n",
        "  \n",
        "A = np.array( [ [ 1, 4, -2 ], [ 3, -2, 5 ], [ 2, 3, 1 ] ], float )\n",
        "b = np.array( [ [ 3 ], [ 14 ], [ 11 ] ] )\n",
        "solu_sist_LU( A, b )"
      ],
      "metadata": {
        "colab": {
          "base_uri": "https://localhost:8080/"
        },
        "id": "LR3WB0CZ7fpe",
        "outputId": "da939157-3c16-440d-81cc-2d8c4272b909"
      },
      "execution_count": null,
      "outputs": [
        {
          "output_type": "stream",
          "name": "stdout",
          "text": [
            "A\n"
          ]
        },
        {
          "output_type": "execute_result",
          "data": {
            "text/plain": [
              "False"
            ]
          },
          "metadata": {},
          "execution_count": 17
        }
      ]
    },
    {
      "cell_type": "markdown",
      "source": [
        "# Todo junto -> Superior, Inferior, LU"
      ],
      "metadata": {
        "id": "30mVWUps4pJG"
      }
    },
    {
      "cell_type": "code",
      "source": [
        "import numpy as np\n",
        "\n",
        "#Superior\n",
        "\n",
        "def esSistemaTriangular( A ): #valida si es una matriz valida para aplicar el sistema traiangular\n",
        "  ans = True\n",
        "  for i in range( len( A ) ):\n",
        "    for j in range( len( A[ i ] ) ):\n",
        "      if( i > j and A[ i ][ j ] != 0 ):\n",
        "        ans = False\n",
        "  return ans\n",
        "\n",
        "def sistemaTriangular( A, b ): #aplica la aproximacion con el sistema triangular\n",
        "  ans = esSistemaTriangular( A )\n",
        "  if( ans ):\n",
        "    [ n, m ] = np.shape( A )\n",
        "    x = np.zeros( ( n, 1 ) )\n",
        "    for i in range( n - 1, -1, -1 ):\n",
        "      su = 0\n",
        "      for k in range( i, n, 1 ):\n",
        "        su = su + A[ i, k ] * x[ k, 0 ]\n",
        "      x[ i, 0 ] = ( b[ i, 0 ] - su ) / A[ i, i ]\n",
        "    return x\n",
        "  else:\n",
        "    respuesta = \"Cambie la matriz superior\"\n",
        "    return respuesta\n",
        "    \n",
        "A = np.array( [ [ 1, 4, -2 ], [ 0, -14, 11 ], [ 0, 0, 15 / 14 ] ] )\n",
        "b = np.array( [ [ 3 ], [ 5 ], [ 45 / 14 ] ] )\n",
        "#sistemaTriangular( A, b )\n",
        "\n",
        "#Inferior\n",
        "\n",
        "def esSistemaTriangularInf( A ): #valida si es una matriz valida para aplicar el sistema traiangular\n",
        "  ans = True\n",
        "  for i in range( len( A ) ):\n",
        "    for j in range( len( A[ i ] ) ):\n",
        "      if( i < j and A[ i ][ j ] != 0 ):\n",
        "        ans = False\n",
        "  return ans\n",
        "\n",
        "def sistemaTriangularInf( A, b ): #aplica la aproximacion con el sistema triangular\n",
        "  ans = esSistemaTriangularInf( A )\n",
        "  if( ans ):\n",
        "    [ n, m ] = np.shape( A )\n",
        "    x = np.zeros( ( n, 1 ) )\n",
        "    for i in range( n ):\n",
        "      su = 0\n",
        "      for k in range( i ):\n",
        "        su = su + A[ i, k ] * x[ k, 0 ]\n",
        "      x[ i, 0 ] = ( b[ i, 0 ] - su ) / A[ i, i ]\n",
        "    return x\n",
        "  else:\n",
        "    respuesta = \"Cambie la matriz inferior\"\n",
        "    return respuesta\n",
        "\n",
        "AN = np.array( [ [ 1, 0, 0 ], [ 3, 1, 0 ], [ 2, 5 / 14, 1 ] ] )\n",
        "bN = np.array( [ [ 3 ], [ 14 ], [ 11 ] ] )\n",
        "#SistemaTriangularInf( AN, bN )\n",
        "\n",
        "#Factorizacion LU\n",
        "\n",
        "def fact_lu(A):\n",
        "  [ n, n ] = np.shape( A )\n",
        "  L = np.eye( n )\n",
        "  for j in range( 0, n - 1, 1 ):\n",
        "    for i in range( j + 1, n, 1 ):\n",
        "      L[ i, j ] = ( A[ i, j ] / A[ j, j ] )\n",
        "      A[ i, : ] = A[ i, : ] - ( ( A[ i, j ] / A[ j, j ] ) * A[ j, : ] )\n",
        "  return A, L\n",
        "#A = np.array( [ [ 1, 4, -2 ], [ 3, -2, 5 ], [ 2, 3, 1 ] ], float )\n",
        "\n",
        "##Forma general para resolver un sistema de ecuaciones\n",
        "\n",
        "def solu_sist_LU( A, b ):\n",
        "  [ L, U ] = fact_lu( A )\n",
        "  d = sistemaTriangularInf( U, b )\n",
        "  x = sistemaTriangular( L, d )\n",
        "  return x\n",
        "A = np.array( [ [ 1, 4, -2 ], [ 3, -2, 5 ], [ 2, 3, 1 ] ], float )\n",
        "b = np.array( [ [ 3 ], [ 14 ], [ 11 ] ] )\n",
        "solu_sist_LU( A, b )"
      ],
      "metadata": {
        "colab": {
          "base_uri": "https://localhost:8080/"
        },
        "id": "eEanGFjdBcVC",
        "outputId": "eccff889-8281-4fc0-fd76-57fef8d01990"
      },
      "execution_count": null,
      "outputs": [
        {
          "output_type": "execute_result",
          "data": {
            "text/plain": [
              "array([[1.],\n",
              "       [2.],\n",
              "       [3.]])"
            ]
          },
          "metadata": {},
          "execution_count": 21
        }
      ]
    },
    {
      "cell_type": "markdown",
      "source": [
        "# Factorizacion PLU"
      ],
      "metadata": {
        "id": "n7kibzxU7sc2"
      }
    },
    {
      "cell_type": "code",
      "source": [
        "P = np.array( [ [ 0, 1, 0 ], [ 1, 0, 0 ], [ 0, 0, 1 ] ], float )\n",
        "A = np.array( [ [ 1, 4, -2 ], [ 3, -2, 5 ], [ 2, 3, 1] ], float)\n",
        "L = np.array( [ [ 1, 0, 0 ], [ 1 / 3, 1, 0 ], [ 2 / 3, 13 / 14, 1 ] ], float )\n",
        "U = np.array( [ [ 3, -2, 5 ],  [ 0, 14 / 3, -11 / 3 ], [ 0, 0, 15 / 14 ] ], float )\n",
        "print( np.matmul( P, A ) )\n",
        "print( np.matmul( L, U ) )"
      ],
      "metadata": {
        "colab": {
          "base_uri": "https://localhost:8080/"
        },
        "id": "Ty8mgIZZ8Lgh",
        "outputId": "e406a1a7-9dc7-4262-8306-bea466af3462"
      },
      "execution_count": null,
      "outputs": [
        {
          "output_type": "stream",
          "name": "stdout",
          "text": [
            "[[ 3. -2.  5.]\n",
            " [ 1.  4. -2.]\n",
            " [ 2.  3.  1.]]\n",
            "[[ 3. -2.  5.]\n",
            " [ 1.  4. -2.]\n",
            " [ 2.  3.  1.]]\n"
          ]
        }
      ]
    },
    {
      "cell_type": "code",
      "source": [
        "import scipy.linalg as la\n",
        "\n",
        "[ P, L, U ] = la.lu( A )\n",
        "\n",
        "print( P, \"\\n\\n\", L, \"\\n\\n\", U )"
      ],
      "metadata": {
        "colab": {
          "base_uri": "https://localhost:8080/"
        },
        "id": "mKe-FnrSEko4",
        "outputId": "6571a437-5096-4bdf-d09e-b7cdc98fa907"
      },
      "execution_count": null,
      "outputs": [
        {
          "output_type": "stream",
          "name": "stdout",
          "text": [
            "[[0. 1. 0.]\n",
            " [1. 0. 0.]\n",
            " [0. 0. 1.]] \n",
            "\n",
            " [[1.         0.         0.        ]\n",
            " [0.33333333 1.         0.        ]\n",
            " [0.66666667 0.92857143 1.        ]] \n",
            "\n",
            " [[ 3.         -2.          5.        ]\n",
            " [ 0.          4.66666667 -3.66666667]\n",
            " [ 0.          0.          1.07142857]]\n"
          ]
        }
      ]
    },
    {
      "cell_type": "code",
      "source": [
        "import scipy.linalg as la\n",
        "import numpy as np\n",
        "\n",
        "def solu_sist_PLU( A, b ):\n",
        "  [ P, L, U ] = la.lu( A )\n",
        "  c = np.matmul( P, b )\n",
        "  d = sistemaTriangular( L, c )\n",
        "  x = sistemaTriangularInf( U, d )\n",
        "  return x\n",
        "A = np.array( [ [ 1, 4, -2 ], [ 3, -2, 5 ], [ 2, 3, 1 ] ], float )\n",
        "b = np.array( [ [ 3 ], [ 14 ], [ 11 ] ] )\n",
        "print( solu_sist_LU( A, b ) )\n",
        "\n",
        "A = np.array( [ [ -3, 1, 1, 0 ], [ -6, 2, 2, 2 ], [ 3, 3, 2, -1 ], [ 3, 7, 2, 0 ] ], float )\n",
        "b = np.array( [ [ 1 ], [ 3 ], [ 1 ], [ 2 ] ] )\n",
        "print( solu_sist_LU( A, b ) )"
      ],
      "metadata": {
        "colab": {
          "base_uri": "https://localhost:8080/"
        },
        "id": "aUtkIs6LGqMl",
        "outputId": "7b33924d-216a-49a2-eb3b-7274a4e615f9"
      },
      "execution_count": null,
      "outputs": [
        {
          "output_type": "stream",
          "name": "stdout",
          "text": [
            "[[1.]\n",
            " [2.]\n",
            " [3.]]\n",
            "Cambie la matriz superior\n"
          ]
        },
        {
          "output_type": "stream",
          "name": "stderr",
          "text": [
            "<ipython-input-21-1866c377157b>:66: RuntimeWarning: divide by zero encountered in double_scalars\n",
            "  L[ i, j ] = ( A[ i, j ] / A[ j, j ] )\n",
            "<ipython-input-21-1866c377157b>:67: RuntimeWarning: divide by zero encountered in double_scalars\n",
            "  A[ i, : ] = A[ i, : ] - ( ( A[ i, j ] / A[ j, j ] ) * A[ j, : ] )\n",
            "<ipython-input-21-1866c377157b>:67: RuntimeWarning: invalid value encountered in multiply\n",
            "  A[ i, : ] = A[ i, : ] - ( ( A[ i, j ] / A[ j, j ] ) * A[ j, : ] )\n"
          ]
        }
      ]
    }
  ]
}